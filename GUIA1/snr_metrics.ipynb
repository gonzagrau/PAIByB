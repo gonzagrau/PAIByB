{
 "cells": [
  {
   "metadata": {},
   "cell_type": "markdown",
   "source": "# Cálculo de métricas de denoising",
   "id": "ab727cb4b77f1b5f"
  },
  {
   "cell_type": "code",
   "id": "initial_id",
   "metadata": {
    "collapsed": true,
    "ExecuteTime": {
     "end_time": "2024-08-31T21:14:31.951216Z",
     "start_time": "2024-08-31T21:14:31.947546Z"
    }
   },
   "source": [
    "import os\n",
    "import cv2\n",
    "from snr_estimation import ssim, peak_SNR"
   ],
   "outputs": [],
   "execution_count": 11
  },
  {
   "metadata": {},
   "cell_type": "markdown",
   "source": "## Parte 1: Estimación de ruido en PAIByB-1",
   "id": "10699fd3ded60666"
  },
  {
   "metadata": {
    "ExecuteTime": {
     "end_time": "2024-08-31T21:14:05.999266Z",
     "start_time": "2024-08-31T21:14:05.737122Z"
    }
   },
   "cell_type": "code",
   "source": [
    "noise_dir = 'PAIByB-1'\n",
    "noise_imgs = os.listdir(noise_dir)\n",
    "stat_noise_rec_dir = 'noise_estimation/stat_estimation'\n",
    "stat_noise_rec_files = os.listdir(stat_noise_rec_dir)\n",
    "\n",
    "noise_rec_dict = {noise_img: stat_noise_rec_img for noise_img in noise_imgs \n",
    "                  for stat_noise_rec_img in stat_noise_rec_files\n",
    "                  if noise_img.split('.')[0] in stat_noise_rec_img}\n",
    "\n",
    "for original, reconstructed in noise_rec_dict.items():\n",
    "    print(f\"Noise estimation for {original}\")\n",
    "    img_original = cv2.imread(os.path.join(noise_dir, original), cv2.IMREAD_GRAYSCALE)\n",
    "    img_reconstructed = cv2.imread(os.path.join(stat_noise_rec_dir, reconstructed), cv2.IMREAD_GRAYSCALE)\n",
    "    print(f\"PSNR={peak_SNR(img_original, img_reconstructed):.3f}\")\n",
    "    print(f\"SSIM={ssim(img_original, img_reconstructed):.3f}\")\n",
    "    print()"
   ],
   "id": "17b63be09befbf28",
   "outputs": [
    {
     "name": "stdout",
     "output_type": "stream",
     "text": [
      "Noise estimation for Noise-3.tif\n",
      "PSNR=64.680\n",
      "SSIM=0.042\n",
      "\n",
      "Noise estimation for Noise-1.tif\n",
      "PSNR=67.381\n",
      "SSIM=0.220\n",
      "\n",
      "Noise estimation for Noise-4.tif\n",
      "PSNR=64.277\n",
      "SSIM=0.022\n",
      "\n",
      "Noise estimation for Noise-2.tif\n",
      "PSNR=65.828\n",
      "SSIM=0.117\n",
      "\n",
      "Noise estimation for Noise.tif\n",
      "PSNR=66.094\n",
      "SSIM=0.121\n",
      "\n"
     ]
    }
   ],
   "execution_count": 10
  },
  {
   "metadata": {},
   "cell_type": "code",
   "outputs": [],
   "execution_count": null,
   "source": "",
   "id": "403cc9ee747b805e"
  }
 ],
 "metadata": {
  "kernelspec": {
   "display_name": "Python 3",
   "language": "python",
   "name": "python3"
  },
  "language_info": {
   "codemirror_mode": {
    "name": "ipython",
    "version": 2
   },
   "file_extension": ".py",
   "mimetype": "text/x-python",
   "name": "python",
   "nbconvert_exporter": "python",
   "pygments_lexer": "ipython2",
   "version": "2.7.6"
  }
 },
 "nbformat": 4,
 "nbformat_minor": 5
}
