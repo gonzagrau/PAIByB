{
 "cells": [
  {
   "cell_type": "code",
   "execution_count": 1,
   "metadata": {},
   "outputs": [
    {
     "data": {
      "text/plain": [
       "0"
      ]
     },
     "execution_count": 1,
     "metadata": {},
     "output_type": "execute_result"
    }
   ],
   "source": [
    "# Librerías\n",
    "\n",
    "import numpy as np\n",
    "\n",
    "from PyQt6 import QtWidgets\n",
    "import pyqtgraph as pg\n",
    "\n",
    "#1- Inicialización de Qt (solo una vez)\n",
    "app = QtWidgets.QApplication([])\n",
    "\n",
    "#2- Creación de la ventana madre 'MainWin'\n",
    "MainWin = QtWidgets.QWidget()\n",
    "MainWin.setWindowTitle(\"MainWin\")\n",
    "\n",
    "#3- Creación de widgets para MainWin\n",
    "btn = QtWidgets.QPushButton('press me')\n",
    "text = QtWidgets.QLineEdit('enter text')\n",
    "listWidget = QtWidgets.QListWidget()\n",
    "plot = pg.PlotWidget()\n",
    "\n",
    "#4- Creación del grid para colocar los widgets\n",
    "layout = QtWidgets.QGridLayout()\n",
    "MainWin.setLayout(layout)\n",
    "\n",
    "#5- Se agregan los widgets a MainWin según el layout\n",
    "layout.addWidget(btn, 0, 0)  # button goes in upper-left\n",
    "layout.addWidget(text, 1, 0)  # text edit goes in middle-left\n",
    "layout.addWidget(listWidget, 2, 0)  # list widget goes in bottom-left\n",
    "layout.addWidget(plot, 0, 1, 3, 1)  # plot goes on right side, spanning 3 rows\n",
    "\n",
    "#6- Se muestra la ventana MainWin\n",
    "MainWin.show()\n",
    "app.exec()"
   ]
  },
  {
   "cell_type": "code",
   "execution_count": 1,
   "metadata": {},
   "outputs": [
    {
     "name": "stderr",
     "output_type": "stream",
     "text": [
      "C:\\Users\\lucas\\AppData\\Local\\Temp\\ipykernel_15848\\1486971927.py:6: DeprecationWarning: sipPyTypeDict() is deprecated, the extension module should use sipPyTypeDictRef() instead\n",
      "  super().__init__()\n"
     ]
    },
    {
     "name": "stdout",
     "output_type": "stream",
     "text": [
      "Left mouse button pressed at: PyQt6.QtCore.QPointF(370.0, 171.0)\n"
     ]
    },
    {
     "data": {
      "text/plain": [
       "0"
      ]
     },
     "execution_count": 1,
     "metadata": {},
     "output_type": "execute_result"
    }
   ],
   "source": [
    "from PyQt6.QtWidgets import QApplication, QMainWindow\n",
    "from PyQt6.QtCore import Qt\n",
    "\n",
    "class MainWindow(QMainWindow):\n",
    "    def __init__(self):\n",
    "        super().__init__()\n",
    "        # Set the Title of the window\n",
    "        self.setWindowTitle('Mouse and Keyboard Event Demo')\n",
    "        # Set the position and size of the window\n",
    "        self.setGeometry(700, 100, 400, 300)\n",
    "\n",
    "    # This method checks if the left mouse button was pressed on the widget\n",
    "    # and prints the position of the click.\n",
    "    def mousePressEvent(self, event):\n",
    "        if event.button() == Qt.MouseButton.LeftButton:\n",
    "            print(\"Left mouse button pressed at:\", event.position())\n",
    "\n",
    "# Initialize the QApplication\n",
    "app = QApplication([])\n",
    "window = MainWindow()\n",
    "window.show()\n",
    "app.exec()  # Start the event loop"
   ]
  }
 ],
 "metadata": {
  "kernelspec": {
   "display_name": "T6_venv",
   "language": "python",
   "name": "python3"
  },
  "language_info": {
   "codemirror_mode": {
    "name": "ipython",
    "version": 3
   },
   "file_extension": ".py",
   "mimetype": "text/x-python",
   "name": "python",
   "nbconvert_exporter": "python",
   "pygments_lexer": "ipython3",
   "version": "3.11.9"
  }
 },
 "nbformat": 4,
 "nbformat_minor": 2
}
