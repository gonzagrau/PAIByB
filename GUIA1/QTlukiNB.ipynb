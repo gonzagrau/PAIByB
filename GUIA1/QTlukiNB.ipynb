{
 "cells": [
  {
   "cell_type": "code",
   "execution_count": null,
   "metadata": {},
   "outputs": [],
   "source": [
    "hist_df = pd.read_csv(f\"infosaves/hist100.0_100.0_253x263.csv\")\n",
    "\n",
    "plt.plot(hist_df['gray_lvl'], hist_df['hist_value'])\n",
    "plt.title('Histograma recuperado')\n",
    "plt.show()"
   ]
  },
  {
   "cell_type": "code",
   "execution_count": null,
   "metadata": {},
   "outputs": [],
   "source": [
    "img1 = cv2.imread('PAIByB-2/Pie2-1.tif', cv2.IMREAD_GRAYSCALE)\n",
    "plt.imshow(img1, cmap='gray')\n",
    "plt.axis('off')\n",
    "plt.show()"
   ]
  },
  {
   "cell_type": "code",
   "execution_count": null,
   "metadata": {},
   "outputs": [],
   "source": [
    "# Applying multi-Otsu threshold for the default value, generating\n",
    "# three classes.\n",
    "thresholds = threshold_multiotsu(img1,classes=4)\n",
    "\n",
    "# Using the threshold values, we generate the three regions.\n",
    "regions = np.digitize(img1, bins=thresholds)\n",
    "\n",
    "fig, ax = plt.subplots(nrows=1, ncols=3, figsize=(10, 3.5))\n",
    "\n",
    "# Plotting the original image.\n",
    "ax[0].imshow(img1, cmap='gray')\n",
    "ax[0].set_title('Original')\n",
    "ax[0].axis('off')\n",
    "\n",
    "# Plotting the histogram and the two thresholds obtained from\n",
    "# multi-Otsu.\n",
    "ax[1].hist(img1.ravel(), bins=255)\n",
    "ax[1].set_title('Histogram')\n",
    "for thresh in thresholds:\n",
    "    ax[1].axvline(thresh, color='r')\n",
    "\n",
    "# Plotting the Multi Otsu result.\n",
    "ax[2].imshow(regions, cmap='jet')\n",
    "ax[2].set_title('Multi-Otsu result')\n",
    "ax[2].axis('off')\n",
    "\n",
    "plt.subplots_adjust()\n",
    "\n",
    "plt.show()\n",
    "\n",
    "plt.hist(img1.ravel(), bins=255)\n",
    "plt.title('Histogram')\n",
    "for thresh in thresholds:\n",
    "    plt.axvline(thresh, color='r')\n",
    "plt.ylim((0,1000))\n",
    "plt.show()"
   ]
  },
  {
   "cell_type": "code",
   "execution_count": null,
   "metadata": {},
   "outputs": [],
   "source": [
    "img = cv2.imread('PAIByB-2/Pie2-4.tif',0)\n",
    "f = np.fft.fft2(img)\n",
    "fshift = np.fft.fftshift(f)\n",
    "magnitude_spectrum = 20*np.log(np.abs(fshift))\n",
    "\n",
    "plt.imshow(img, cmap = 'gray')\n",
    "plt.title('Input Image'), plt.xticks([]), plt.yticks([])\n",
    "plt.show()\n",
    "\n",
    "\n",
    "plt.imshow(magnitude_spectrum, cmap='nipy_spectral')\n",
    "plt.title('Magnitude Spectrum'), plt.xticks([]), plt.yticks([])\n",
    "plt.colorbar()\n",
    "plt.show()"
   ]
  },
  {
   "cell_type": "code",
   "execution_count": null,
   "metadata": {},
   "outputs": [],
   "source": [
    "Z_new = Z\n",
    "\n",
    "Z_new[Z_new > 190] = 0\n",
    "\n",
    "print(np.shape(Z_new))"
   ]
  },
  {
   "cell_type": "code",
   "execution_count": null,
   "metadata": {},
   "outputs": [],
   "source": [
    "ax = plt.figure(figsize=(10,7)).add_subplot(projection='3d')\n",
    "surf = ax.plot_surface(X, Y, Z_new, cmap=\"jet\")\n",
    "fig.colorbar(surf)\n",
    "plt.show()"
   ]
  },
  {
   "cell_type": "code",
   "execution_count": null,
   "metadata": {},
   "outputs": [],
   "source": [
    "ax = plt.figure(figsize=(10,7)).add_subplot(projection='3d')\n",
    "surf = ax.plot_surface(X, Y, mask, cmap=\"jet\")\n",
    "fig.colorbar(surf)\n",
    "plt.show()"
   ]
  },
  {
   "cell_type": "code",
   "execution_count": null,
   "metadata": {},
   "outputs": [],
   "source": [
    "def apply_filter(image, H):\n",
    "    F = np.fft.fft2(image)          # Compute the 2D Fourier Transform of the image\n",
    "    F_shifted = np.fft.fftshift(F)  # Shift the zero frequency component to the center\n",
    "    F_filtered = F_shifted * H      # Apply the high-pass filter in the frequency domain\n",
    "    F_ishifted = np.fft.ifftshift(F_filtered)  # Shift back the zero frequency component\n",
    "    filtered_image = np.fft.ifft2(F_ishifted)  # Inverse Fourier Transform to spatial domain\n",
    "    return np.abs(filtered_image)   # Return the magnitude of the filtered image"
   ]
  },
  {
   "cell_type": "code",
   "execution_count": null,
   "metadata": {},
   "outputs": [],
   "source": [
    "plt.imshow(new_img, cmap = 'gray')\n",
    "plt.title('Noise')\n",
    "plt.show()"
   ]
  },
  {
   "cell_type": "code",
   "execution_count": null,
   "metadata": {},
   "outputs": [],
   "source": [
    "maskinv = mask\n",
    "maskinv[maskinv == 1] = 2\n",
    "maskinv[maskinv == 0] = 1\n",
    "maskinv[maskinv == 2] = 0"
   ]
  }
 ],
 "metadata": {
  "kernelspec": {
   "display_name": "T6_venv",
   "language": "python",
   "name": "python3"
  },
  "language_info": {
   "codemirror_mode": {
    "name": "ipython",
    "version": 3
   },
   "file_extension": ".py",
   "mimetype": "text/x-python",
   "name": "python",
   "nbconvert_exporter": "python",
   "pygments_lexer": "ipython3",
   "version": "3.11.9"
  }
 },
 "nbformat": 4,
 "nbformat_minor": 2
}
