{
 "cells": [
  {
   "metadata": {},
   "cell_type": "markdown",
   "source": [
    "<center>\n",
    "\n",
    "# Trabajo Práctico 1: estimación de ruido y denoising\n",
    "\n",
    "## Procesamiento Avanzado de Imágenes en Biomedicina y Biología\n",
    "\n",
    "### Segundo Cuatrimestre 2024\n",
    "\n",
    "<table>\n",
    "      <tr>\n",
    "        <th>Alumnos</th>\n",
    "        <th>Legajos</th>\n",
    "      </tr>\n",
    "      <tr>\n",
    "        <td>\n",
    "          Bajlec Ivo 62175<br>\n",
    "          Grau Gonzalo Andrés 62259<br>\n",
    "          Neira Lucas Matias 61570\n",
    "        </td>\n",
    "        <td>\n",
    "          62175<br>\n",
    "          62259<br>\n",
    "          61750<br>\n",
    "        </td>\n",
    "      </tr>\n",
    "    </table>\n",
    "\n",
    "**Docente**: Roberto Sebastián Tomás\n",
    "\n",
    "**Fecha de entrega**: 02/09/2024\n",
    "\n",
    "</center>\n",
    "\n"
   ],
   "id": "cec525e97b57e49b"
  },
  {
   "metadata": {},
   "cell_type": "markdown",
   "source": [
    "## Objetivos del trabajo\n",
    "Mediante el siguiente trabajo, se buscará mejorar la calidad de imágenes biomédicas inherentemente ruidosas. Para ello, se aplicarán técnicas de estimación de ruido y denoising, incluyendo estimaciones estadísticas a partir de regiones de interés homogéneas (ROI, por la sigla en inglés *region of interest*), análisis en el dominio frecuencial, y descomposición por transformadas de wavelets. Luego, se evaluarán los resultados obtenidos mediante métricas relacionadas al *signal to noise ratio* (SNR) de las reconstrucciones. "
   ],
   "id": "2b7058f4262eac5b"
  },
  {
   "metadata": {},
   "cell_type": "markdown",
   "source": [
    "## Primera parte: análisis y reconstrucción de ruido mediante procesamiento de ROIs\n",
    "\n",
    "En la siguiente sección, se desarrollará un análisis de las imágenes contenidas en la carpeta PAIByB-1, muestreando adecuadamente sus segmentos ruidosos."
   ],
   "id": "a86c1eb0beca3146"
  },
  {
   "metadata": {},
   "cell_type": "markdown",
   "source": "",
   "id": "51ba36e2ba1e74ff"
  },
  {
   "metadata": {},
   "cell_type": "code",
   "outputs": [],
   "execution_count": null,
   "source": "",
   "id": "d33a221b866af9d"
  },
  {
   "cell_type": "code",
   "execution_count": null,
   "id": "initial_id",
   "metadata": {
    "collapsed": true
   },
   "outputs": [],
   "source": [
    ""
   ]
  },
  {
   "metadata": {},
   "cell_type": "markdown",
   "source": [
    "## Segunda parte: denoising aplicado a imágenes biomédicas\n",
    "\n",
    "En esta sección, utilizaremos estimaciones del ruido en las imágenes de la carpeta PAIByB-2 para poder así extraer estas componentes y conservar únicamente la información relevante"
   ],
   "id": "72bcf38376db9dab"
  }
 ],
 "metadata": {
  "kernelspec": {
   "display_name": "Python 3",
   "language": "python",
   "name": "python3"
  },
  "language_info": {
   "codemirror_mode": {
    "name": "ipython",
    "version": 2
   },
   "file_extension": ".py",
   "mimetype": "text/x-python",
   "name": "python",
   "nbconvert_exporter": "python",
   "pygments_lexer": "ipython2",
   "version": "2.7.6"
  }
 },
 "nbformat": 4,
 "nbformat_minor": 5
}
