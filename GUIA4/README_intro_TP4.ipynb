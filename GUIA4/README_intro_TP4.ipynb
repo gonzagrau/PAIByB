{
 "cells": [
  {
   "cell_type": "markdown",
   "metadata": {},
   "source": [
    "\n",
    "<center>\n",
    "\n",
    "# Trabajo Práctico 4: REDES NEURONALES EN PAIByB\n",
    "\n",
    "## Procesamiento Avanzado de Imágenes en Biomedicina y Biología\n",
    "\n",
    "### Segundo Cuatrimestre 2024\n",
    "\n",
    "<table>\n",
    "      <tr>\n",
    "        <th>Alumnos</th>\n",
    "        <th>Legajos</th>\n",
    "      </tr>\n",
    "      <tr>\n",
    "        <td>\n",
    "          Bajlec, Ivo<br>\n",
    "          Grau, Gonzalo Andrés<br>\n",
    "          Neira, Lucas Matias\n",
    "        </td>\n",
    "        <td>\n",
    "          62175<br>\n",
    "          62259<br>\n",
    "          61750<br>\n",
    "        </td>\n",
    "      </tr>\n",
    "    </table>\n",
    "\n",
    "**Docente**: Roberto Sebastián Tomás\n",
    "\n",
    "**Fecha de entrega**: 29/11/2024\n",
    "\n",
    "</center>"
   ]
  },
  {
   "cell_type": "markdown",
   "metadata": {},
   "source": [
    "---"
   ]
  },
  {
   "cell_type": "markdown",
   "metadata": {},
   "source": [
    "# Introducción\n",
    "\n",
    "Para el siguiente trabajo, dividimos los ejercicios en notebooks dedicados. Muchos de estos fueron corridos en plataformas externas como Kaggle, debido a las limitaciones de hardware de nuestros dispositivos personales. **NO SE DEBE CORRER NINGUNO DE ESTOS NOTEBOOKS**, debido a que esto eliminaría los resultados obtenidos y podría *crashear su PC*."
   ]
  },
  {
   "cell_type": "markdown",
   "metadata": {},
   "source": [
    "## Dataset utilizado\n",
    "\n",
    "Para este trabajo, hicimos uso del dataset `HAM-10000`, el cual cuenta con 10015 imágenes clasificadas de lesiones cutáneas, divididas en 7 categorías."
   ]
  },
  {
   "cell_type": "markdown",
   "metadata": {},
   "source": [
    "## Estructura del trabajo\n",
    "\n",
    "Cada ejercicio cuenta con su notebook específico. Referirse a:\n",
    "\n",
    "* Ejercicio 1: ver notebook `Ej_1y3_cnn-vgg-ham10000.ipynb`\n",
    "* Ejercicio 2: ver notebook `Ej_2y3_u-net-ham10000.ipynb`\n",
    "* Ejercicio 3: ver notebooks anteriores (se integró en análisis en la resolución)\n",
    "* Ejercicio 4: ver notebooks `Ej_4a-gan-ham10000.ipynb`, `Ej_4b-dcgan-ham10000.ipynb`, `Ej_4c-vit-ham10000.ipynb`"
   ]
  }
 ],
 "metadata": {
  "language_info": {
   "name": "python"
  }
 },
 "nbformat": 4,
 "nbformat_minor": 2
}
