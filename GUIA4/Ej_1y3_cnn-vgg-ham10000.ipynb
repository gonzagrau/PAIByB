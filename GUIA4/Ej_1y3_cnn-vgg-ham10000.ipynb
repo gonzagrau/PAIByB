{
 "cells": [
  {
   "cell_type": "markdown",
   "metadata": {},
   "source": [
    "---"
   ]
  },
  {
   "cell_type": "markdown",
   "metadata": {},
   "source": [
    "# Clasificación de imágenes HAM10000 mediante CNN"
   ]
  },
  {
   "cell_type": "code",
   "execution_count": 1,
   "metadata": {
    "execution": {
     "iopub.execute_input": "2024-11-29T01:49:04.037280Z",
     "iopub.status.busy": "2024-11-29T01:49:04.036837Z",
     "iopub.status.idle": "2024-11-29T01:49:17.658071Z",
     "shell.execute_reply": "2024-11-29T01:49:17.657151Z",
     "shell.execute_reply.started": "2024-11-29T01:49:04.037243Z"
    },
    "trusted": true
   },
   "outputs": [],
   "source": [
    "import numpy as np\n",
    "import matplotlib.pyplot as plt\n",
    "import os\n",
    "import pandas as pd\n",
    "import cv2\n",
    "\n",
    "from keras.layers import Input, Dense, Conv2D, MaxPooling2D, UpSampling2D, Flatten, Reshape, Dropout, BatchNormalization\n",
    "from keras.regularizers import l2,l1,L1L2\n",
    "from keras.models import Model\n",
    "from keras.optimizers import Adam\n",
    "from keras.callbacks import ReduceLROnPlateau, ModelCheckpoint, EarlyStopping\n",
    "from keras.metrics import Precision, SensitivityAtSpecificity, Accuracy\n",
    "from keras.layers import RandomFlip, RandomRotation, RandomZoom, RandomContrast, RandomTranslation\n",
    "from tensorflow.keras.models import Sequential, load_model\n",
    "from tensorflow.keras.applications import VGG16, ResNet50\n",
    "from tensorflow.keras.utils import to_categorical\n",
    "\n",
    "from sklearn.model_selection import train_test_split\n",
    "\n",
    "import tensorflow as tf\n",
    "import random"
   ]
  },
  {
   "cell_type": "markdown",
   "metadata": {},
   "source": [
    "# Lectura de los datos"
   ]
  },
  {
   "cell_type": "code",
   "execution_count": 2,
   "metadata": {
    "execution": {
     "iopub.execute_input": "2024-11-29T01:49:19.844661Z",
     "iopub.status.busy": "2024-11-29T01:49:19.844092Z",
     "iopub.status.idle": "2024-11-29T01:49:19.858613Z",
     "shell.execute_reply": "2024-11-29T01:49:19.857777Z",
     "shell.execute_reply.started": "2024-11-29T01:49:19.844630Z"
    },
    "trusted": true
   },
   "outputs": [
    {
     "name": "stdout",
     "output_type": "stream",
     "text": [
      "Files and directories in ' /kaggle/input/lmn-ham10000/dataverse_files ' :\n",
      "['HAM10000_segmentations_lesion_tschandl', 'HAM10000_images', 'train_img_mask_label_id.tfrecord', 'HAM10000_metadata.csv']\n"
     ]
    }
   ],
   "source": [
    "path = \"/kaggle/input/lmn-ham10000/dataverse_files\"\n",
    "\n",
    "dir_list = os.listdir(path)\n",
    "print(\"Files and directories in '\", path, \"' :\")\n",
    "# prints all files\n",
    "print(dir_list)"
   ]
  },
  {
   "cell_type": "code",
   "execution_count": 3,
   "metadata": {
    "execution": {
     "iopub.execute_input": "2024-11-29T01:49:21.760841Z",
     "iopub.status.busy": "2024-11-29T01:49:21.760490Z",
     "iopub.status.idle": "2024-11-29T01:49:21.839905Z",
     "shell.execute_reply": "2024-11-29T01:49:21.838899Z",
     "shell.execute_reply.started": "2024-11-29T01:49:21.760809Z"
    },
    "trusted": true
   },
   "outputs": [
    {
     "name": "stdout",
     "output_type": "stream",
     "text": [
      "labels:  ['bkl' 'nv' 'df' 'mel' 'vasc' 'bcc' 'akiec']\n",
      "labels codificadas:  [2 5 3 4 6 1 0]\n"
     ]
    },
    {
     "data": {
      "text/html": [
       "<div>\n",
       "<style scoped>\n",
       "    .dataframe tbody tr th:only-of-type {\n",
       "        vertical-align: middle;\n",
       "    }\n",
       "\n",
       "    .dataframe tbody tr th {\n",
       "        vertical-align: top;\n",
       "    }\n",
       "\n",
       "    .dataframe thead th {\n",
       "        text-align: right;\n",
       "    }\n",
       "</style>\n",
       "<table border=\"1\" class=\"dataframe\">\n",
       "  <thead>\n",
       "    <tr style=\"text-align: right;\">\n",
       "      <th></th>\n",
       "      <th>lesion_id</th>\n",
       "      <th>image_id</th>\n",
       "      <th>dx</th>\n",
       "      <th>dx_type</th>\n",
       "      <th>age</th>\n",
       "      <th>sex</th>\n",
       "      <th>localization</th>\n",
       "      <th>dataset</th>\n",
       "      <th>int_labels</th>\n",
       "    </tr>\n",
       "  </thead>\n",
       "  <tbody>\n",
       "    <tr>\n",
       "      <th>0</th>\n",
       "      <td>HAM_0000118</td>\n",
       "      <td>ISIC_0027419</td>\n",
       "      <td>bkl</td>\n",
       "      <td>histo</td>\n",
       "      <td>80.0</td>\n",
       "      <td>male</td>\n",
       "      <td>scalp</td>\n",
       "      <td>vidir_modern</td>\n",
       "      <td>2</td>\n",
       "    </tr>\n",
       "    <tr>\n",
       "      <th>1</th>\n",
       "      <td>HAM_0000118</td>\n",
       "      <td>ISIC_0025030</td>\n",
       "      <td>bkl</td>\n",
       "      <td>histo</td>\n",
       "      <td>80.0</td>\n",
       "      <td>male</td>\n",
       "      <td>scalp</td>\n",
       "      <td>vidir_modern</td>\n",
       "      <td>2</td>\n",
       "    </tr>\n",
       "    <tr>\n",
       "      <th>2</th>\n",
       "      <td>HAM_0002730</td>\n",
       "      <td>ISIC_0026769</td>\n",
       "      <td>bkl</td>\n",
       "      <td>histo</td>\n",
       "      <td>80.0</td>\n",
       "      <td>male</td>\n",
       "      <td>scalp</td>\n",
       "      <td>vidir_modern</td>\n",
       "      <td>2</td>\n",
       "    </tr>\n",
       "    <tr>\n",
       "      <th>3</th>\n",
       "      <td>HAM_0002730</td>\n",
       "      <td>ISIC_0025661</td>\n",
       "      <td>bkl</td>\n",
       "      <td>histo</td>\n",
       "      <td>80.0</td>\n",
       "      <td>male</td>\n",
       "      <td>scalp</td>\n",
       "      <td>vidir_modern</td>\n",
       "      <td>2</td>\n",
       "    </tr>\n",
       "    <tr>\n",
       "      <th>4</th>\n",
       "      <td>HAM_0001466</td>\n",
       "      <td>ISIC_0031633</td>\n",
       "      <td>bkl</td>\n",
       "      <td>histo</td>\n",
       "      <td>75.0</td>\n",
       "      <td>male</td>\n",
       "      <td>ear</td>\n",
       "      <td>vidir_modern</td>\n",
       "      <td>2</td>\n",
       "    </tr>\n",
       "    <tr>\n",
       "      <th>...</th>\n",
       "      <td>...</td>\n",
       "      <td>...</td>\n",
       "      <td>...</td>\n",
       "      <td>...</td>\n",
       "      <td>...</td>\n",
       "      <td>...</td>\n",
       "      <td>...</td>\n",
       "      <td>...</td>\n",
       "      <td>...</td>\n",
       "    </tr>\n",
       "    <tr>\n",
       "      <th>10010</th>\n",
       "      <td>HAM_0002867</td>\n",
       "      <td>ISIC_0033084</td>\n",
       "      <td>akiec</td>\n",
       "      <td>histo</td>\n",
       "      <td>40.0</td>\n",
       "      <td>male</td>\n",
       "      <td>abdomen</td>\n",
       "      <td>vidir_modern</td>\n",
       "      <td>0</td>\n",
       "    </tr>\n",
       "    <tr>\n",
       "      <th>10011</th>\n",
       "      <td>HAM_0002867</td>\n",
       "      <td>ISIC_0033550</td>\n",
       "      <td>akiec</td>\n",
       "      <td>histo</td>\n",
       "      <td>40.0</td>\n",
       "      <td>male</td>\n",
       "      <td>abdomen</td>\n",
       "      <td>vidir_modern</td>\n",
       "      <td>0</td>\n",
       "    </tr>\n",
       "    <tr>\n",
       "      <th>10012</th>\n",
       "      <td>HAM_0002867</td>\n",
       "      <td>ISIC_0033536</td>\n",
       "      <td>akiec</td>\n",
       "      <td>histo</td>\n",
       "      <td>40.0</td>\n",
       "      <td>male</td>\n",
       "      <td>abdomen</td>\n",
       "      <td>vidir_modern</td>\n",
       "      <td>0</td>\n",
       "    </tr>\n",
       "    <tr>\n",
       "      <th>10013</th>\n",
       "      <td>HAM_0000239</td>\n",
       "      <td>ISIC_0032854</td>\n",
       "      <td>akiec</td>\n",
       "      <td>histo</td>\n",
       "      <td>80.0</td>\n",
       "      <td>male</td>\n",
       "      <td>face</td>\n",
       "      <td>vidir_modern</td>\n",
       "      <td>0</td>\n",
       "    </tr>\n",
       "    <tr>\n",
       "      <th>10014</th>\n",
       "      <td>HAM_0003521</td>\n",
       "      <td>ISIC_0032258</td>\n",
       "      <td>mel</td>\n",
       "      <td>histo</td>\n",
       "      <td>70.0</td>\n",
       "      <td>female</td>\n",
       "      <td>back</td>\n",
       "      <td>vidir_modern</td>\n",
       "      <td>4</td>\n",
       "    </tr>\n",
       "  </tbody>\n",
       "</table>\n",
       "<p>10015 rows × 9 columns</p>\n",
       "</div>"
      ],
      "text/plain": [
       "         lesion_id      image_id     dx dx_type   age     sex localization  \\\n",
       "0      HAM_0000118  ISIC_0027419    bkl   histo  80.0    male        scalp   \n",
       "1      HAM_0000118  ISIC_0025030    bkl   histo  80.0    male        scalp   \n",
       "2      HAM_0002730  ISIC_0026769    bkl   histo  80.0    male        scalp   \n",
       "3      HAM_0002730  ISIC_0025661    bkl   histo  80.0    male        scalp   \n",
       "4      HAM_0001466  ISIC_0031633    bkl   histo  75.0    male          ear   \n",
       "...            ...           ...    ...     ...   ...     ...          ...   \n",
       "10010  HAM_0002867  ISIC_0033084  akiec   histo  40.0    male      abdomen   \n",
       "10011  HAM_0002867  ISIC_0033550  akiec   histo  40.0    male      abdomen   \n",
       "10012  HAM_0002867  ISIC_0033536  akiec   histo  40.0    male      abdomen   \n",
       "10013  HAM_0000239  ISIC_0032854  akiec   histo  80.0    male         face   \n",
       "10014  HAM_0003521  ISIC_0032258    mel   histo  70.0  female         back   \n",
       "\n",
       "            dataset  int_labels  \n",
       "0      vidir_modern           2  \n",
       "1      vidir_modern           2  \n",
       "2      vidir_modern           2  \n",
       "3      vidir_modern           2  \n",
       "4      vidir_modern           2  \n",
       "...             ...         ...  \n",
       "10010  vidir_modern           0  \n",
       "10011  vidir_modern           0  \n",
       "10012  vidir_modern           0  \n",
       "10013  vidir_modern           0  \n",
       "10014  vidir_modern           4  \n",
       "\n",
       "[10015 rows x 9 columns]"
      ]
     },
     "metadata": {},
     "output_type": "display_data"
    }
   ],
   "source": [
    "df = pd.read_csv(path+'/HAM10000_metadata.csv')\n",
    "print('labels: ',df['dx'].unique())\n",
    "\n",
    "int_lables = df['dx'].astype('category').cat.codes\n",
    "\n",
    "print('labels codificadas: ', int_lables.unique())\n",
    "\n",
    "df['int_labels'] = int_lables\n",
    "\n",
    "display(df)\n",
    "\n",
    "labels = np.array(np.int32(df['int_labels'].values))"
   ]
  },
  {
   "cell_type": "code",
   "execution_count": 4,
   "metadata": {
    "execution": {
     "iopub.execute_input": "2024-11-29T01:49:24.137455Z",
     "iopub.status.busy": "2024-11-29T01:49:24.137122Z",
     "iopub.status.idle": "2024-11-29T01:49:24.145466Z",
     "shell.execute_reply": "2024-11-29T01:49:24.144501Z",
     "shell.execute_reply.started": "2024-11-29T01:49:24.137427Z"
    },
    "trusted": true
   },
   "outputs": [
    {
     "name": "stdout",
     "output_type": "stream",
     "text": [
      "Cantidad de imágenes por clase:  {0: 327, 1: 514, 2: 1099, 3: 115, 4: 1113, 5: 6705, 6: 142}\n"
     ]
    }
   ],
   "source": [
    "unique_classes, counts = np.unique(labels, return_counts=True)\n",
    "# Crear un diccionario con el número de imágenes necesarias para cada clase\n",
    "cantidad_por_clase = {cls: count for cls, count in zip(unique_classes, counts)}\n",
    "\n",
    "print('Cantidad de imágenes por clase: ', cantidad_por_clase)"
   ]
  },
  {
   "cell_type": "markdown",
   "metadata": {},
   "source": [
    "Claramente, hay un desbalance en los datos que deberá ser tenido en cuenta para el entrenamiento."
   ]
  },
  {
   "cell_type": "code",
   "execution_count": 5,
   "metadata": {
    "execution": {
     "iopub.execute_input": "2024-11-29T01:49:26.677318Z",
     "iopub.status.busy": "2024-11-29T01:49:26.676557Z",
     "iopub.status.idle": "2024-11-29T01:49:31.824288Z",
     "shell.execute_reply": "2024-11-29T01:49:31.823331Z",
     "shell.execute_reply.started": "2024-11-29T01:49:26.677284Z"
    },
    "trusted": true
   },
   "outputs": [
    {
     "data": {
      "text/html": [
       "<div>\n",
       "<style scoped>\n",
       "    .dataframe tbody tr th:only-of-type {\n",
       "        vertical-align: middle;\n",
       "    }\n",
       "\n",
       "    .dataframe tbody tr th {\n",
       "        vertical-align: top;\n",
       "    }\n",
       "\n",
       "    .dataframe thead th {\n",
       "        text-align: right;\n",
       "    }\n",
       "</style>\n",
       "<table border=\"1\" class=\"dataframe\">\n",
       "  <thead>\n",
       "    <tr style=\"text-align: right;\">\n",
       "      <th></th>\n",
       "      <th>lesion_id</th>\n",
       "      <th>image_id</th>\n",
       "      <th>dx</th>\n",
       "      <th>dx_type</th>\n",
       "      <th>age</th>\n",
       "      <th>sex</th>\n",
       "      <th>localization</th>\n",
       "      <th>dataset</th>\n",
       "      <th>int_labels</th>\n",
       "      <th>paths</th>\n",
       "    </tr>\n",
       "  </thead>\n",
       "  <tbody>\n",
       "    <tr>\n",
       "      <th>0</th>\n",
       "      <td>HAM_0000118</td>\n",
       "      <td>ISIC_0027419</td>\n",
       "      <td>bkl</td>\n",
       "      <td>histo</td>\n",
       "      <td>80.0</td>\n",
       "      <td>male</td>\n",
       "      <td>scalp</td>\n",
       "      <td>vidir_modern</td>\n",
       "      <td>2</td>\n",
       "      <td>/kaggle/input/lmn-ham10000/dataverse_files/HAM...</td>\n",
       "    </tr>\n",
       "    <tr>\n",
       "      <th>1</th>\n",
       "      <td>HAM_0000118</td>\n",
       "      <td>ISIC_0025030</td>\n",
       "      <td>bkl</td>\n",
       "      <td>histo</td>\n",
       "      <td>80.0</td>\n",
       "      <td>male</td>\n",
       "      <td>scalp</td>\n",
       "      <td>vidir_modern</td>\n",
       "      <td>2</td>\n",
       "      <td>/kaggle/input/lmn-ham10000/dataverse_files/HAM...</td>\n",
       "    </tr>\n",
       "    <tr>\n",
       "      <th>2</th>\n",
       "      <td>HAM_0002730</td>\n",
       "      <td>ISIC_0026769</td>\n",
       "      <td>bkl</td>\n",
       "      <td>histo</td>\n",
       "      <td>80.0</td>\n",
       "      <td>male</td>\n",
       "      <td>scalp</td>\n",
       "      <td>vidir_modern</td>\n",
       "      <td>2</td>\n",
       "      <td>/kaggle/input/lmn-ham10000/dataverse_files/HAM...</td>\n",
       "    </tr>\n",
       "    <tr>\n",
       "      <th>3</th>\n",
       "      <td>HAM_0002730</td>\n",
       "      <td>ISIC_0025661</td>\n",
       "      <td>bkl</td>\n",
       "      <td>histo</td>\n",
       "      <td>80.0</td>\n",
       "      <td>male</td>\n",
       "      <td>scalp</td>\n",
       "      <td>vidir_modern</td>\n",
       "      <td>2</td>\n",
       "      <td>/kaggle/input/lmn-ham10000/dataverse_files/HAM...</td>\n",
       "    </tr>\n",
       "    <tr>\n",
       "      <th>4</th>\n",
       "      <td>HAM_0001466</td>\n",
       "      <td>ISIC_0031633</td>\n",
       "      <td>bkl</td>\n",
       "      <td>histo</td>\n",
       "      <td>75.0</td>\n",
       "      <td>male</td>\n",
       "      <td>ear</td>\n",
       "      <td>vidir_modern</td>\n",
       "      <td>2</td>\n",
       "      <td>/kaggle/input/lmn-ham10000/dataverse_files/HAM...</td>\n",
       "    </tr>\n",
       "    <tr>\n",
       "      <th>...</th>\n",
       "      <td>...</td>\n",
       "      <td>...</td>\n",
       "      <td>...</td>\n",
       "      <td>...</td>\n",
       "      <td>...</td>\n",
       "      <td>...</td>\n",
       "      <td>...</td>\n",
       "      <td>...</td>\n",
       "      <td>...</td>\n",
       "      <td>...</td>\n",
       "    </tr>\n",
       "    <tr>\n",
       "      <th>10010</th>\n",
       "      <td>HAM_0002867</td>\n",
       "      <td>ISIC_0033084</td>\n",
       "      <td>akiec</td>\n",
       "      <td>histo</td>\n",
       "      <td>40.0</td>\n",
       "      <td>male</td>\n",
       "      <td>abdomen</td>\n",
       "      <td>vidir_modern</td>\n",
       "      <td>0</td>\n",
       "      <td>/kaggle/input/lmn-ham10000/dataverse_files/HAM...</td>\n",
       "    </tr>\n",
       "    <tr>\n",
       "      <th>10011</th>\n",
       "      <td>HAM_0002867</td>\n",
       "      <td>ISIC_0033550</td>\n",
       "      <td>akiec</td>\n",
       "      <td>histo</td>\n",
       "      <td>40.0</td>\n",
       "      <td>male</td>\n",
       "      <td>abdomen</td>\n",
       "      <td>vidir_modern</td>\n",
       "      <td>0</td>\n",
       "      <td>/kaggle/input/lmn-ham10000/dataverse_files/HAM...</td>\n",
       "    </tr>\n",
       "    <tr>\n",
       "      <th>10012</th>\n",
       "      <td>HAM_0002867</td>\n",
       "      <td>ISIC_0033536</td>\n",
       "      <td>akiec</td>\n",
       "      <td>histo</td>\n",
       "      <td>40.0</td>\n",
       "      <td>male</td>\n",
       "      <td>abdomen</td>\n",
       "      <td>vidir_modern</td>\n",
       "      <td>0</td>\n",
       "      <td>/kaggle/input/lmn-ham10000/dataverse_files/HAM...</td>\n",
       "    </tr>\n",
       "    <tr>\n",
       "      <th>10013</th>\n",
       "      <td>HAM_0000239</td>\n",
       "      <td>ISIC_0032854</td>\n",
       "      <td>akiec</td>\n",
       "      <td>histo</td>\n",
       "      <td>80.0</td>\n",
       "      <td>male</td>\n",
       "      <td>face</td>\n",
       "      <td>vidir_modern</td>\n",
       "      <td>0</td>\n",
       "      <td>/kaggle/input/lmn-ham10000/dataverse_files/HAM...</td>\n",
       "    </tr>\n",
       "    <tr>\n",
       "      <th>10014</th>\n",
       "      <td>HAM_0003521</td>\n",
       "      <td>ISIC_0032258</td>\n",
       "      <td>mel</td>\n",
       "      <td>histo</td>\n",
       "      <td>70.0</td>\n",
       "      <td>female</td>\n",
       "      <td>back</td>\n",
       "      <td>vidir_modern</td>\n",
       "      <td>4</td>\n",
       "      <td>/kaggle/input/lmn-ham10000/dataverse_files/HAM...</td>\n",
       "    </tr>\n",
       "  </tbody>\n",
       "</table>\n",
       "<p>10015 rows × 10 columns</p>\n",
       "</div>"
      ],
      "text/plain": [
       "         lesion_id      image_id     dx dx_type   age     sex localization  \\\n",
       "0      HAM_0000118  ISIC_0027419    bkl   histo  80.0    male        scalp   \n",
       "1      HAM_0000118  ISIC_0025030    bkl   histo  80.0    male        scalp   \n",
       "2      HAM_0002730  ISIC_0026769    bkl   histo  80.0    male        scalp   \n",
       "3      HAM_0002730  ISIC_0025661    bkl   histo  80.0    male        scalp   \n",
       "4      HAM_0001466  ISIC_0031633    bkl   histo  75.0    male          ear   \n",
       "...            ...           ...    ...     ...   ...     ...          ...   \n",
       "10010  HAM_0002867  ISIC_0033084  akiec   histo  40.0    male      abdomen   \n",
       "10011  HAM_0002867  ISIC_0033550  akiec   histo  40.0    male      abdomen   \n",
       "10012  HAM_0002867  ISIC_0033536  akiec   histo  40.0    male      abdomen   \n",
       "10013  HAM_0000239  ISIC_0032854  akiec   histo  80.0    male         face   \n",
       "10014  HAM_0003521  ISIC_0032258    mel   histo  70.0  female         back   \n",
       "\n",
       "            dataset  int_labels  \\\n",
       "0      vidir_modern           2   \n",
       "1      vidir_modern           2   \n",
       "2      vidir_modern           2   \n",
       "3      vidir_modern           2   \n",
       "4      vidir_modern           2   \n",
       "...             ...         ...   \n",
       "10010  vidir_modern           0   \n",
       "10011  vidir_modern           0   \n",
       "10012  vidir_modern           0   \n",
       "10013  vidir_modern           0   \n",
       "10014  vidir_modern           4   \n",
       "\n",
       "                                                   paths  \n",
       "0      /kaggle/input/lmn-ham10000/dataverse_files/HAM...  \n",
       "1      /kaggle/input/lmn-ham10000/dataverse_files/HAM...  \n",
       "2      /kaggle/input/lmn-ham10000/dataverse_files/HAM...  \n",
       "3      /kaggle/input/lmn-ham10000/dataverse_files/HAM...  \n",
       "4      /kaggle/input/lmn-ham10000/dataverse_files/HAM...  \n",
       "...                                                  ...  \n",
       "10010  /kaggle/input/lmn-ham10000/dataverse_files/HAM...  \n",
       "10011  /kaggle/input/lmn-ham10000/dataverse_files/HAM...  \n",
       "10012  /kaggle/input/lmn-ham10000/dataverse_files/HAM...  \n",
       "10013  /kaggle/input/lmn-ham10000/dataverse_files/HAM...  \n",
       "10014  /kaggle/input/lmn-ham10000/dataverse_files/HAM...  \n",
       "\n",
       "[10015 rows x 10 columns]"
      ]
     },
     "metadata": {},
     "output_type": "display_data"
    }
   ],
   "source": [
    "# Ruta a las imágenes y las etiquetas\n",
    "image_folder = path +'/HAM10000_images'\n",
    "\n",
    "# Obtener rutas de las imágenes\n",
    "image_paths = tf.io.gfile.glob(f\"{image_folder}/*\")\n",
    "\n",
    "df['paths'] = image_paths\n",
    "\n",
    "display(df)"
   ]
  },
  {
   "cell_type": "markdown",
   "metadata": {},
   "source": [
    "# Balanceo de clases\n",
    "\n",
    "Existen distintas estrategias para compensar el desbalance de datos. Una de ellas consiste en la generación de imágenes tal que cada clase posea la misma cantidad de imágenes. Se intentó llevar a cabo este técnica pero los tiempos de cómputo hacían imposible analizar adecuadamente su efecto. Por esta razón, se decidió probar con tres técnicas más: compensación de pesos, inicialización de pesos y recorte del dataset. De estas últimas tres técnicas, solamente vamos a desarrollar la última, puesto que las otras generaban redes con un nivel de accuracy muy bajo o redes absolutamente sesgadas hacia la clase con mayor cantidad de datos.\n",
    "\n",
    "\n",
    "Los resultados de aplicar un recrote de datos no son lo más adecuado, debido a la reducida cantidad de imágenes restantes en el dataset. Aún así, perimitió observar el efecto de distintas arquitecturas, junto a su regularización, efectos que con las otras técnicas no ocurría.\n",
    "\n",
    "El recorte de datos se hizo de tal manera, tal que las clases tuvieran como máximo la mediana de las cantidad de imágenes originales en cada clase. La mediana es de 514, por lo tanto, ese será el máximo de imágenes para algunas clases."
   ]
  },
  {
   "cell_type": "code",
   "execution_count": 6,
   "metadata": {
    "execution": {
     "iopub.execute_input": "2024-11-29T01:49:34.700821Z",
     "iopub.status.busy": "2024-11-29T01:49:34.700479Z",
     "iopub.status.idle": "2024-11-29T01:49:34.739144Z",
     "shell.execute_reply": "2024-11-29T01:49:34.738209Z",
     "shell.execute_reply.started": "2024-11-29T01:49:34.700793Z"
    },
    "trusted": true
   },
   "outputs": [
    {
     "data": {
      "text/html": [
       "<div>\n",
       "<style scoped>\n",
       "    .dataframe tbody tr th:only-of-type {\n",
       "        vertical-align: middle;\n",
       "    }\n",
       "\n",
       "    .dataframe tbody tr th {\n",
       "        vertical-align: top;\n",
       "    }\n",
       "\n",
       "    .dataframe thead th {\n",
       "        text-align: right;\n",
       "    }\n",
       "</style>\n",
       "<table border=\"1\" class=\"dataframe\">\n",
       "  <thead>\n",
       "    <tr style=\"text-align: right;\">\n",
       "      <th></th>\n",
       "      <th>paths</th>\n",
       "      <th>labels</th>\n",
       "    </tr>\n",
       "  </thead>\n",
       "  <tbody>\n",
       "    <tr>\n",
       "      <th>0</th>\n",
       "      <td>/kaggle/input/lmn-ham10000/dataverse_files/HAM...</td>\n",
       "      <td>0</td>\n",
       "    </tr>\n",
       "    <tr>\n",
       "      <th>1</th>\n",
       "      <td>/kaggle/input/lmn-ham10000/dataverse_files/HAM...</td>\n",
       "      <td>0</td>\n",
       "    </tr>\n",
       "    <tr>\n",
       "      <th>2</th>\n",
       "      <td>/kaggle/input/lmn-ham10000/dataverse_files/HAM...</td>\n",
       "      <td>0</td>\n",
       "    </tr>\n",
       "    <tr>\n",
       "      <th>3</th>\n",
       "      <td>/kaggle/input/lmn-ham10000/dataverse_files/HAM...</td>\n",
       "      <td>0</td>\n",
       "    </tr>\n",
       "    <tr>\n",
       "      <th>4</th>\n",
       "      <td>/kaggle/input/lmn-ham10000/dataverse_files/HAM...</td>\n",
       "      <td>0</td>\n",
       "    </tr>\n",
       "    <tr>\n",
       "      <th>...</th>\n",
       "      <td>...</td>\n",
       "      <td>...</td>\n",
       "    </tr>\n",
       "    <tr>\n",
       "      <th>2635</th>\n",
       "      <td>/kaggle/input/lmn-ham10000/dataverse_files/HAM...</td>\n",
       "      <td>6</td>\n",
       "    </tr>\n",
       "    <tr>\n",
       "      <th>2636</th>\n",
       "      <td>/kaggle/input/lmn-ham10000/dataverse_files/HAM...</td>\n",
       "      <td>6</td>\n",
       "    </tr>\n",
       "    <tr>\n",
       "      <th>2637</th>\n",
       "      <td>/kaggle/input/lmn-ham10000/dataverse_files/HAM...</td>\n",
       "      <td>6</td>\n",
       "    </tr>\n",
       "    <tr>\n",
       "      <th>2638</th>\n",
       "      <td>/kaggle/input/lmn-ham10000/dataverse_files/HAM...</td>\n",
       "      <td>6</td>\n",
       "    </tr>\n",
       "    <tr>\n",
       "      <th>2639</th>\n",
       "      <td>/kaggle/input/lmn-ham10000/dataverse_files/HAM...</td>\n",
       "      <td>6</td>\n",
       "    </tr>\n",
       "  </tbody>\n",
       "</table>\n",
       "<p>2640 rows × 2 columns</p>\n",
       "</div>"
      ],
      "text/plain": [
       "                                                  paths  labels\n",
       "0     /kaggle/input/lmn-ham10000/dataverse_files/HAM...       0\n",
       "1     /kaggle/input/lmn-ham10000/dataverse_files/HAM...       0\n",
       "2     /kaggle/input/lmn-ham10000/dataverse_files/HAM...       0\n",
       "3     /kaggle/input/lmn-ham10000/dataverse_files/HAM...       0\n",
       "4     /kaggle/input/lmn-ham10000/dataverse_files/HAM...       0\n",
       "...                                                 ...     ...\n",
       "2635  /kaggle/input/lmn-ham10000/dataverse_files/HAM...       6\n",
       "2636  /kaggle/input/lmn-ham10000/dataverse_files/HAM...       6\n",
       "2637  /kaggle/input/lmn-ham10000/dataverse_files/HAM...       6\n",
       "2638  /kaggle/input/lmn-ham10000/dataverse_files/HAM...       6\n",
       "2639  /kaggle/input/lmn-ham10000/dataverse_files/HAM...       6\n",
       "\n",
       "[2640 rows x 2 columns]"
      ]
     },
     "metadata": {},
     "output_type": "display_data"
    },
    {
     "name": "stdout",
     "output_type": "stream",
     "text": [
      "/kaggle/input/lmn-ham10000/dataverse_files/HAM10000_images/ISIC_0029472.jpg\n"
     ]
    }
   ],
   "source": [
    "# Paths de las imágenes para cada clase\n",
    "lista_paths_por_clase = [list(df.loc[df['int_labels'] == cls, 'paths']) for cls in unique_classes]\n",
    "\n",
    "# Selección aleatoria de cantidad máxima de imágenes dentro de cada clase\n",
    "lista_paths_por_clase_cortadas = []\n",
    "for lista in lista_paths_por_clase:\n",
    "\n",
    "    indexes = list(range(len(lista)))\n",
    "    random.shuffle(indexes)\n",
    "    \n",
    "    if len(lista) < np.median(counts):\n",
    "        lista_paths_por_clase_cortadas.append(lista)\n",
    "    else:\n",
    "        lista_cut = [lista[i] for i in indexes[:int(np.median(counts))]]\n",
    "        lista_paths_por_clase_cortadas.append(lista_cut)\n",
    "\n",
    "lista_labels_por_clase = []\n",
    "for cls, lista in zip(unique_classes,lista_paths_por_clase_cortadas):\n",
    "    lista_label_cut = [cls for i in range(len(lista))]\n",
    "    lista_labels_por_clase.append(lista_label_cut)\n",
    "\n",
    "# Merge de listas\n",
    "union_paths = []\n",
    "for lista in lista_paths_por_clase_cortadas:\n",
    "    union_paths += list(lista)\n",
    "\n",
    "union_labels = []\n",
    "for lista in lista_labels_por_clase:\n",
    "    union_labels += list(lista)\n",
    "\n",
    "data = {'paths': union_paths,\n",
    "        'labels': union_labels}\n",
    "df_selected = pd.DataFrame(data)\n",
    "\n",
    "display(df_selected)\n",
    "print(df_selected['paths'][0])"
   ]
  },
  {
   "cell_type": "markdown",
   "metadata": {},
   "source": [
    "# Creación de los datasets"
   ]
  },
  {
   "cell_type": "code",
   "execution_count": 10,
   "metadata": {
    "execution": {
     "iopub.execute_input": "2024-11-29T01:53:24.042713Z",
     "iopub.status.busy": "2024-11-29T01:53:24.042130Z",
     "iopub.status.idle": "2024-11-29T01:53:24.052907Z",
     "shell.execute_reply": "2024-11-29T01:53:24.051973Z",
     "shell.execute_reply.started": "2024-11-29T01:53:24.042680Z"
    },
    "trusted": true
   },
   "outputs": [
    {
     "name": "stdout",
     "output_type": "stream",
     "text": [
      "TRAIN\n",
      "\n",
      "Cantidad de imágenes por clase:  {0: 251, 1: 417, 2: 415, 3: 90, 4: 410, 5: 415, 6: 114}\n",
      "Total:  2112\n",
      "Proporción de imágenes por clase:  {0: 11.884469696969697, 1: 19.744318181818183, 2: 19.64962121212121, 3: 4.261363636363637, 4: 19.41287878787879, 5: 19.64962121212121, 6: 5.3977272727272725}\n",
      "\n",
      "VAL\n",
      "\n",
      "Cantidad de imágenes por clase:  {0: 76, 1: 97, 2: 99, 3: 25, 4: 104, 5: 99, 6: 28}\n",
      "Total:  528\n",
      "Proporción de imágenes por clase:  {0: 14.393939393939394, 1: 18.37121212121212, 2: 18.75, 3: 4.734848484848484, 4: 19.696969696969695, 5: 18.75, 6: 5.303030303030303}\n"
     ]
    }
   ],
   "source": [
    "paths_train, paths_val, labels_train, labels_val = train_test_split(union_paths, union_labels, test_size=0.20)\n",
    "\n",
    "print('TRAIN\\n')\n",
    "\n",
    "unique_classes, counts = np.unique(labels_train, return_counts=True)\n",
    "cantidad_por_clase_train = {cls: count for cls, count in zip(unique_classes, counts)}\n",
    "porcentaje_por_clase_train = {cls: 100*count/np.sum(counts)  for cls, count in zip(unique_classes, counts)}\n",
    "print('Cantidad de imágenes por clase: ', cantidad_por_clase_train)\n",
    "print('Total: ', np.sum(counts))\n",
    "print('Proporción de imágenes por clase: ', porcentaje_por_clase_train)\n",
    "\n",
    "print('\\nVAL\\n')\n",
    "\n",
    "unique_classes, counts = np.unique(labels_val, return_counts=True)\n",
    "cantidad_por_clase_val = {cls: count for cls, count in zip(unique_classes, counts)}\n",
    "porcentaje_por_clase_val = {cls: 100*count/np.sum(counts) for cls, count in zip(unique_classes, counts)}\n",
    "print('Cantidad de imágenes por clase: ', cantidad_por_clase_val)\n",
    "print('Total: ', np.sum(counts))\n",
    "print('Proporción de imágenes por clase: ', porcentaje_por_clase_val)\n",
    "\n",
    "labels_train = to_categorical(labels_train, num_classes=7)\n",
    "labels_val = to_categorical(labels_val, num_classes=7)"
   ]
  },
  {
   "cell_type": "markdown",
   "metadata": {},
   "source": [
    "Las clases ahora sí se encuentran más balanceadas. Se optó por no balancearlas al 100% debido a la extrema reducción de datos."
   ]
  },
  {
   "cell_type": "markdown",
   "metadata": {},
   "source": [
    "Las imágenes se normalizan y se utiliza un resize para obtener imágenes de (100,133), para mantener la relación de aspecto original ( (450,600) )."
   ]
  },
  {
   "cell_type": "code",
   "execution_count": 11,
   "metadata": {
    "execution": {
     "iopub.execute_input": "2024-11-29T01:54:13.088721Z",
     "iopub.status.busy": "2024-11-29T01:54:13.088351Z",
     "iopub.status.idle": "2024-11-29T01:54:49.793814Z",
     "shell.execute_reply": "2024-11-29T01:54:49.792796Z",
     "shell.execute_reply.started": "2024-11-29T01:54:13.088689Z"
    },
    "trusted": true
   },
   "outputs": [],
   "source": [
    "X_train = np.array([cv2.resize(cv2.imread(path), (133, 100))/255.0 for path in paths_train])\n",
    "X_val = np.array([cv2.resize(cv2.imread(path), (133, 100))/255.0 for path in paths_val])"
   ]
  },
  {
   "cell_type": "markdown",
   "metadata": {},
   "source": [
    "# Definición de métricas"
   ]
  },
  {
   "cell_type": "markdown",
   "metadata": {},
   "source": [
    "Las métricas a utilizas consisten en:\n",
    "\n",
    "- Accuracy\n",
    "- Sensitivity\n",
    "- Specificity"
   ]
  },
  {
   "cell_type": "code",
   "execution_count": 12,
   "metadata": {
    "execution": {
     "iopub.execute_input": "2024-11-29T01:55:07.325369Z",
     "iopub.status.busy": "2024-11-29T01:55:07.324596Z",
     "iopub.status.idle": "2024-11-29T01:55:07.332462Z",
     "shell.execute_reply": "2024-11-29T01:55:07.331433Z",
     "shell.execute_reply.started": "2024-11-29T01:55:07.325335Z"
    },
    "trusted": true
   },
   "outputs": [],
   "source": [
    "from tensorflow.keras import backend as K\n",
    "\n",
    "# Sensitivity (Recall)\n",
    "def sensitivity(y_true, y_pred):\n",
    "    y_true = K.cast(y_true, 'float32')\n",
    "    y_pred = K.argmax(y_pred, axis=-1)\n",
    "    y_pred = K.one_hot(y_pred, num_classes=K.int_shape(y_true)[-1])\n",
    "    true_positives = K.sum(K.round(K.clip(y_true * y_pred, 0, 1)), axis=0)\n",
    "    possible_positives = K.sum(K.round(K.clip(y_true, 0, 1)), axis=0)\n",
    "    return K.mean(true_positives / (possible_positives + K.epsilon()))\n",
    "\n",
    "# Specificity\n",
    "def specificity(y_true, y_pred):\n",
    "    y_true = K.cast(y_true, 'float32')\n",
    "    y_pred = K.argmax(y_pred, axis=-1)\n",
    "    y_pred = K.one_hot(y_pred, num_classes=K.int_shape(y_true)[-1])\n",
    "    true_negatives = K.sum(K.round(K.clip((1 - y_true) * (1 - y_pred), 0, 1)), axis=0)\n",
    "    possible_negatives = K.sum(K.round(K.clip(1 - y_true, 0, 1)), axis=0)\n",
    "    return K.mean(true_negatives / (possible_negatives + K.epsilon()))"
   ]
  },
  {
   "cell_type": "markdown",
   "metadata": {},
   "source": [
    "El siguiente método tiene como objetivo calcular las compensaciones de los pesos debido al leve desbalanceo de datos. Esta compensación es utilizada a la hora de entrenar la red."
   ]
  },
  {
   "cell_type": "code",
   "execution_count": 13,
   "metadata": {
    "execution": {
     "iopub.execute_input": "2024-11-29T01:55:11.184585Z",
     "iopub.status.busy": "2024-11-29T01:55:11.183874Z",
     "iopub.status.idle": "2024-11-29T01:55:11.192940Z",
     "shell.execute_reply": "2024-11-29T01:55:11.191999Z",
     "shell.execute_reply.started": "2024-11-29T01:55:11.184551Z"
    },
    "trusted": true
   },
   "outputs": [
    {
     "name": "stdout",
     "output_type": "stream",
     "text": [
      "{0: 1.1533420707732633, 1: 0.7337409672040022, 2: 0.7337409672040022, 3: 3.279503105590062, 4: 0.7337409672040022, 5: 0.7337409672040022, 6: 2.6559356136820926}\n"
     ]
    }
   ],
   "source": [
    "from sklearn.utils import class_weight\n",
    "class_weights = class_weight.compute_class_weight(\n",
    "    class_weight='balanced',\n",
    "    classes=np.unique(union_labels),\n",
    "    y=union_labels)\n",
    "\n",
    "class_weights = dict(enumerate(class_weights))\n",
    "\n",
    "print(class_weights)"
   ]
  },
  {
   "cell_type": "markdown",
   "metadata": {},
   "source": [
    "# Definición del modelo de CNN sin regularización y entrenamiento"
   ]
  },
  {
   "cell_type": "code",
   "execution_count": 26,
   "metadata": {
    "execution": {
     "iopub.execute_input": "2024-11-29T02:02:57.402877Z",
     "iopub.status.busy": "2024-11-29T02:02:57.401919Z",
     "iopub.status.idle": "2024-11-29T02:02:57.485669Z",
     "shell.execute_reply": "2024-11-29T02:02:57.484895Z",
     "shell.execute_reply.started": "2024-11-29T02:02:57.402828Z"
    },
    "trusted": true
   },
   "outputs": [
    {
     "data": {
      "text/html": [
       "<pre style=\"white-space:pre;overflow-x:auto;line-height:normal;font-family:Menlo,'DejaVu Sans Mono',consolas,'Courier New',monospace\"><span style=\"font-weight: bold\">Model: \"functional_11\"</span>\n",
       "</pre>\n"
      ],
      "text/plain": [
       "\u001b[1mModel: \"functional_11\"\u001b[0m\n"
      ]
     },
     "metadata": {},
     "output_type": "display_data"
    },
    {
     "data": {
      "text/html": [
       "<pre style=\"white-space:pre;overflow-x:auto;line-height:normal;font-family:Menlo,'DejaVu Sans Mono',consolas,'Courier New',monospace\">┏━━━━━━━━━━━━━━━━━━━━━━━━━━━━━━━━━┳━━━━━━━━━━━━━━━━━━━━━━━━┳━━━━━━━━━━━━━━━┓\n",
       "┃<span style=\"font-weight: bold\"> Layer (type)                    </span>┃<span style=\"font-weight: bold\"> Output Shape           </span>┃<span style=\"font-weight: bold\">       Param # </span>┃\n",
       "┡━━━━━━━━━━━━━━━━━━━━━━━━━━━━━━━━━╇━━━━━━━━━━━━━━━━━━━━━━━━╇━━━━━━━━━━━━━━━┩\n",
       "│ input_layer_5 (<span style=\"color: #0087ff; text-decoration-color: #0087ff\">InputLayer</span>)      │ (<span style=\"color: #00d7ff; text-decoration-color: #00d7ff\">None</span>, <span style=\"color: #00af00; text-decoration-color: #00af00\">100</span>, <span style=\"color: #00af00; text-decoration-color: #00af00\">133</span>, <span style=\"color: #00af00; text-decoration-color: #00af00\">3</span>)    │             <span style=\"color: #00af00; text-decoration-color: #00af00\">0</span> │\n",
       "├─────────────────────────────────┼────────────────────────┼───────────────┤\n",
       "│ conv2d_10 (<span style=\"color: #0087ff; text-decoration-color: #0087ff\">Conv2D</span>)              │ (<span style=\"color: #00d7ff; text-decoration-color: #00d7ff\">None</span>, <span style=\"color: #00af00; text-decoration-color: #00af00\">98</span>, <span style=\"color: #00af00; text-decoration-color: #00af00\">131</span>, <span style=\"color: #00af00; text-decoration-color: #00af00\">16</span>)    │           <span style=\"color: #00af00; text-decoration-color: #00af00\">448</span> │\n",
       "├─────────────────────────────────┼────────────────────────┼───────────────┤\n",
       "│ max_pooling2d_10 (<span style=\"color: #0087ff; text-decoration-color: #0087ff\">MaxPooling2D</span>) │ (<span style=\"color: #00d7ff; text-decoration-color: #00d7ff\">None</span>, <span style=\"color: #00af00; text-decoration-color: #00af00\">49</span>, <span style=\"color: #00af00; text-decoration-color: #00af00\">65</span>, <span style=\"color: #00af00; text-decoration-color: #00af00\">16</span>)     │             <span style=\"color: #00af00; text-decoration-color: #00af00\">0</span> │\n",
       "├─────────────────────────────────┼────────────────────────┼───────────────┤\n",
       "│ conv2d_11 (<span style=\"color: #0087ff; text-decoration-color: #0087ff\">Conv2D</span>)              │ (<span style=\"color: #00d7ff; text-decoration-color: #00d7ff\">None</span>, <span style=\"color: #00af00; text-decoration-color: #00af00\">47</span>, <span style=\"color: #00af00; text-decoration-color: #00af00\">63</span>, <span style=\"color: #00af00; text-decoration-color: #00af00\">32</span>)     │         <span style=\"color: #00af00; text-decoration-color: #00af00\">4,640</span> │\n",
       "├─────────────────────────────────┼────────────────────────┼───────────────┤\n",
       "│ max_pooling2d_11 (<span style=\"color: #0087ff; text-decoration-color: #0087ff\">MaxPooling2D</span>) │ (<span style=\"color: #00d7ff; text-decoration-color: #00d7ff\">None</span>, <span style=\"color: #00af00; text-decoration-color: #00af00\">23</span>, <span style=\"color: #00af00; text-decoration-color: #00af00\">31</span>, <span style=\"color: #00af00; text-decoration-color: #00af00\">32</span>)     │             <span style=\"color: #00af00; text-decoration-color: #00af00\">0</span> │\n",
       "├─────────────────────────────────┼────────────────────────┼───────────────┤\n",
       "│ conv2d_12 (<span style=\"color: #0087ff; text-decoration-color: #0087ff\">Conv2D</span>)              │ (<span style=\"color: #00d7ff; text-decoration-color: #00d7ff\">None</span>, <span style=\"color: #00af00; text-decoration-color: #00af00\">21</span>, <span style=\"color: #00af00; text-decoration-color: #00af00\">29</span>, <span style=\"color: #00af00; text-decoration-color: #00af00\">64</span>)     │        <span style=\"color: #00af00; text-decoration-color: #00af00\">18,496</span> │\n",
       "├─────────────────────────────────┼────────────────────────┼───────────────┤\n",
       "│ max_pooling2d_12 (<span style=\"color: #0087ff; text-decoration-color: #0087ff\">MaxPooling2D</span>) │ (<span style=\"color: #00d7ff; text-decoration-color: #00d7ff\">None</span>, <span style=\"color: #00af00; text-decoration-color: #00af00\">10</span>, <span style=\"color: #00af00; text-decoration-color: #00af00\">14</span>, <span style=\"color: #00af00; text-decoration-color: #00af00\">64</span>)     │             <span style=\"color: #00af00; text-decoration-color: #00af00\">0</span> │\n",
       "├─────────────────────────────────┼────────────────────────┼───────────────┤\n",
       "│ flatten_5 (<span style=\"color: #0087ff; text-decoration-color: #0087ff\">Flatten</span>)             │ (<span style=\"color: #00d7ff; text-decoration-color: #00d7ff\">None</span>, <span style=\"color: #00af00; text-decoration-color: #00af00\">8960</span>)           │             <span style=\"color: #00af00; text-decoration-color: #00af00\">0</span> │\n",
       "├─────────────────────────────────┼────────────────────────┼───────────────┤\n",
       "│ dense_20 (<span style=\"color: #0087ff; text-decoration-color: #0087ff\">Dense</span>)                │ (<span style=\"color: #00d7ff; text-decoration-color: #00d7ff\">None</span>, <span style=\"color: #00af00; text-decoration-color: #00af00\">512</span>)            │     <span style=\"color: #00af00; text-decoration-color: #00af00\">4,588,032</span> │\n",
       "├─────────────────────────────────┼────────────────────────┼───────────────┤\n",
       "│ dense_21 (<span style=\"color: #0087ff; text-decoration-color: #0087ff\">Dense</span>)                │ (<span style=\"color: #00d7ff; text-decoration-color: #00d7ff\">None</span>, <span style=\"color: #00af00; text-decoration-color: #00af00\">256</span>)            │       <span style=\"color: #00af00; text-decoration-color: #00af00\">131,328</span> │\n",
       "├─────────────────────────────────┼────────────────────────┼───────────────┤\n",
       "│ dense_22 (<span style=\"color: #0087ff; text-decoration-color: #0087ff\">Dense</span>)                │ (<span style=\"color: #00d7ff; text-decoration-color: #00d7ff\">None</span>, <span style=\"color: #00af00; text-decoration-color: #00af00\">128</span>)            │        <span style=\"color: #00af00; text-decoration-color: #00af00\">32,896</span> │\n",
       "├─────────────────────────────────┼────────────────────────┼───────────────┤\n",
       "│ dense_23 (<span style=\"color: #0087ff; text-decoration-color: #0087ff\">Dense</span>)                │ (<span style=\"color: #00d7ff; text-decoration-color: #00d7ff\">None</span>, <span style=\"color: #00af00; text-decoration-color: #00af00\">7</span>)              │           <span style=\"color: #00af00; text-decoration-color: #00af00\">903</span> │\n",
       "└─────────────────────────────────┴────────────────────────┴───────────────┘\n",
       "</pre>\n"
      ],
      "text/plain": [
       "┏━━━━━━━━━━━━━━━━━━━━━━━━━━━━━━━━━┳━━━━━━━━━━━━━━━━━━━━━━━━┳━━━━━━━━━━━━━━━┓\n",
       "┃\u001b[1m \u001b[0m\u001b[1mLayer (type)                   \u001b[0m\u001b[1m \u001b[0m┃\u001b[1m \u001b[0m\u001b[1mOutput Shape          \u001b[0m\u001b[1m \u001b[0m┃\u001b[1m \u001b[0m\u001b[1m      Param #\u001b[0m\u001b[1m \u001b[0m┃\n",
       "┡━━━━━━━━━━━━━━━━━━━━━━━━━━━━━━━━━╇━━━━━━━━━━━━━━━━━━━━━━━━╇━━━━━━━━━━━━━━━┩\n",
       "│ input_layer_5 (\u001b[38;5;33mInputLayer\u001b[0m)      │ (\u001b[38;5;45mNone\u001b[0m, \u001b[38;5;34m100\u001b[0m, \u001b[38;5;34m133\u001b[0m, \u001b[38;5;34m3\u001b[0m)    │             \u001b[38;5;34m0\u001b[0m │\n",
       "├─────────────────────────────────┼────────────────────────┼───────────────┤\n",
       "│ conv2d_10 (\u001b[38;5;33mConv2D\u001b[0m)              │ (\u001b[38;5;45mNone\u001b[0m, \u001b[38;5;34m98\u001b[0m, \u001b[38;5;34m131\u001b[0m, \u001b[38;5;34m16\u001b[0m)    │           \u001b[38;5;34m448\u001b[0m │\n",
       "├─────────────────────────────────┼────────────────────────┼───────────────┤\n",
       "│ max_pooling2d_10 (\u001b[38;5;33mMaxPooling2D\u001b[0m) │ (\u001b[38;5;45mNone\u001b[0m, \u001b[38;5;34m49\u001b[0m, \u001b[38;5;34m65\u001b[0m, \u001b[38;5;34m16\u001b[0m)     │             \u001b[38;5;34m0\u001b[0m │\n",
       "├─────────────────────────────────┼────────────────────────┼───────────────┤\n",
       "│ conv2d_11 (\u001b[38;5;33mConv2D\u001b[0m)              │ (\u001b[38;5;45mNone\u001b[0m, \u001b[38;5;34m47\u001b[0m, \u001b[38;5;34m63\u001b[0m, \u001b[38;5;34m32\u001b[0m)     │         \u001b[38;5;34m4,640\u001b[0m │\n",
       "├─────────────────────────────────┼────────────────────────┼───────────────┤\n",
       "│ max_pooling2d_11 (\u001b[38;5;33mMaxPooling2D\u001b[0m) │ (\u001b[38;5;45mNone\u001b[0m, \u001b[38;5;34m23\u001b[0m, \u001b[38;5;34m31\u001b[0m, \u001b[38;5;34m32\u001b[0m)     │             \u001b[38;5;34m0\u001b[0m │\n",
       "├─────────────────────────────────┼────────────────────────┼───────────────┤\n",
       "│ conv2d_12 (\u001b[38;5;33mConv2D\u001b[0m)              │ (\u001b[38;5;45mNone\u001b[0m, \u001b[38;5;34m21\u001b[0m, \u001b[38;5;34m29\u001b[0m, \u001b[38;5;34m64\u001b[0m)     │        \u001b[38;5;34m18,496\u001b[0m │\n",
       "├─────────────────────────────────┼────────────────────────┼───────────────┤\n",
       "│ max_pooling2d_12 (\u001b[38;5;33mMaxPooling2D\u001b[0m) │ (\u001b[38;5;45mNone\u001b[0m, \u001b[38;5;34m10\u001b[0m, \u001b[38;5;34m14\u001b[0m, \u001b[38;5;34m64\u001b[0m)     │             \u001b[38;5;34m0\u001b[0m │\n",
       "├─────────────────────────────────┼────────────────────────┼───────────────┤\n",
       "│ flatten_5 (\u001b[38;5;33mFlatten\u001b[0m)             │ (\u001b[38;5;45mNone\u001b[0m, \u001b[38;5;34m8960\u001b[0m)           │             \u001b[38;5;34m0\u001b[0m │\n",
       "├─────────────────────────────────┼────────────────────────┼───────────────┤\n",
       "│ dense_20 (\u001b[38;5;33mDense\u001b[0m)                │ (\u001b[38;5;45mNone\u001b[0m, \u001b[38;5;34m512\u001b[0m)            │     \u001b[38;5;34m4,588,032\u001b[0m │\n",
       "├─────────────────────────────────┼────────────────────────┼───────────────┤\n",
       "│ dense_21 (\u001b[38;5;33mDense\u001b[0m)                │ (\u001b[38;5;45mNone\u001b[0m, \u001b[38;5;34m256\u001b[0m)            │       \u001b[38;5;34m131,328\u001b[0m │\n",
       "├─────────────────────────────────┼────────────────────────┼───────────────┤\n",
       "│ dense_22 (\u001b[38;5;33mDense\u001b[0m)                │ (\u001b[38;5;45mNone\u001b[0m, \u001b[38;5;34m128\u001b[0m)            │        \u001b[38;5;34m32,896\u001b[0m │\n",
       "├─────────────────────────────────┼────────────────────────┼───────────────┤\n",
       "│ dense_23 (\u001b[38;5;33mDense\u001b[0m)                │ (\u001b[38;5;45mNone\u001b[0m, \u001b[38;5;34m7\u001b[0m)              │           \u001b[38;5;34m903\u001b[0m │\n",
       "└─────────────────────────────────┴────────────────────────┴───────────────┘\n"
      ]
     },
     "metadata": {},
     "output_type": "display_data"
    },
    {
     "data": {
      "text/html": [
       "<pre style=\"white-space:pre;overflow-x:auto;line-height:normal;font-family:Menlo,'DejaVu Sans Mono',consolas,'Courier New',monospace\"><span style=\"font-weight: bold\"> Total params: </span><span style=\"color: #00af00; text-decoration-color: #00af00\">4,776,743</span> (18.22 MB)\n",
       "</pre>\n"
      ],
      "text/plain": [
       "\u001b[1m Total params: \u001b[0m\u001b[38;5;34m4,776,743\u001b[0m (18.22 MB)\n"
      ]
     },
     "metadata": {},
     "output_type": "display_data"
    },
    {
     "data": {
      "text/html": [
       "<pre style=\"white-space:pre;overflow-x:auto;line-height:normal;font-family:Menlo,'DejaVu Sans Mono',consolas,'Courier New',monospace\"><span style=\"font-weight: bold\"> Trainable params: </span><span style=\"color: #00af00; text-decoration-color: #00af00\">4,776,743</span> (18.22 MB)\n",
       "</pre>\n"
      ],
      "text/plain": [
       "\u001b[1m Trainable params: \u001b[0m\u001b[38;5;34m4,776,743\u001b[0m (18.22 MB)\n"
      ]
     },
     "metadata": {},
     "output_type": "display_data"
    },
    {
     "data": {
      "text/html": [
       "<pre style=\"white-space:pre;overflow-x:auto;line-height:normal;font-family:Menlo,'DejaVu Sans Mono',consolas,'Courier New',monospace\"><span style=\"font-weight: bold\"> Non-trainable params: </span><span style=\"color: #00af00; text-decoration-color: #00af00\">0</span> (0.00 B)\n",
       "</pre>\n"
      ],
      "text/plain": [
       "\u001b[1m Non-trainable params: \u001b[0m\u001b[38;5;34m0\u001b[0m (0.00 B)\n"
      ]
     },
     "metadata": {},
     "output_type": "display_data"
    }
   ],
   "source": [
    "lr = 0.001\n",
    "\n",
    "# Input\n",
    "input = Input(shape=(100, 133, 3))\n",
    "\n",
    "# Body - Convolution\n",
    "x = Conv2D(16, (3, 3), activation='relu')(input)\n",
    "x = MaxPooling2D(2, 2)(x)\n",
    "x = Conv2D(32, (3, 3), activation='relu')(x)\n",
    "x = MaxPooling2D(2, 2)(x)\n",
    "x = Conv2D(64, (3, 3), activation='relu')(x)\n",
    "x = MaxPooling2D(2, 2)(x)\n",
    "x = Flatten()(x)\n",
    "\n",
    "# Body - Dense\n",
    "x = Dense(512, activation='relu')(x)\n",
    "x = Dense(256, activation='relu')(x)\n",
    "x = Dense(128, activation='relu')(x)\n",
    "\n",
    "# Output\n",
    "output = Dense(7, activation='softmax')(x)\n",
    "\n",
    "model_cnn = Model(input, output)\n",
    "\n",
    "model_cnn.summary()\n",
    "\n",
    "model_cnn.compile(\n",
    "    optimizer               = Adam(learning_rate=lr),\n",
    "    loss                    = 'categorical_crossentropy',\n",
    "    metrics                 = ['Accuracy',sensitivity,specificity]\n",
    ")"
   ]
  },
  {
   "cell_type": "code",
   "execution_count": 27,
   "metadata": {
    "execution": {
     "iopub.execute_input": "2024-11-29T02:03:01.287359Z",
     "iopub.status.busy": "2024-11-29T02:03:01.286961Z",
     "iopub.status.idle": "2024-11-29T02:03:32.721161Z",
     "shell.execute_reply": "2024-11-29T02:03:32.720465Z",
     "shell.execute_reply.started": "2024-11-29T02:03:01.287327Z"
    },
    "trusted": true
   },
   "outputs": [
    {
     "name": "stdout",
     "output_type": "stream",
     "text": [
      "Epoch 1/50\n",
      "\u001b[1m132/132\u001b[0m \u001b[32m━━━━━━━━━━━━━━━━━━━━\u001b[0m\u001b[37m\u001b[0m \u001b[1m13s\u001b[0m 14ms/step - Accuracy: 0.1797 - loss: 1.9636 - sensitivity: 0.1329 - specificity: 0.8575 - val_Accuracy: 0.1970 - val_loss: 1.9462 - val_sensitivity: 0.1385 - val_specificity: 0.8571\n",
      "Epoch 2/50\n",
      "\u001b[1m132/132\u001b[0m \u001b[32m━━━━━━━━━━━━━━━━━━━━\u001b[0m\u001b[37m\u001b[0m \u001b[1m1s\u001b[0m 6ms/step - Accuracy: 0.2074 - loss: 1.9391 - sensitivity: 0.1369 - specificity: 0.8570 - val_Accuracy: 0.0473 - val_loss: 1.9488 - val_sensitivity: 0.0823 - val_specificity: 0.8571\n",
      "Epoch 3/50\n",
      "\u001b[1m132/132\u001b[0m \u001b[32m━━━━━━━━━━━━━━━━━━━━\u001b[0m\u001b[37m\u001b[0m \u001b[1m1s\u001b[0m 6ms/step - Accuracy: 0.1108 - loss: 1.9090 - sensitivity: 0.1085 - specificity: 0.8572 - val_Accuracy: 0.0473 - val_loss: 1.9481 - val_sensitivity: 0.0823 - val_specificity: 0.8571\n",
      "Epoch 4/50\n",
      "\u001b[1m132/132\u001b[0m \u001b[32m━━━━━━━━━━━━━━━━━━━━\u001b[0m\u001b[37m\u001b[0m \u001b[1m1s\u001b[0m 6ms/step - Accuracy: 0.0553 - loss: 1.9617 - sensitivity: 0.0778 - specificity: 0.8572 - val_Accuracy: 0.1837 - val_loss: 1.9453 - val_sensitivity: 0.1385 - val_specificity: 0.8571\n",
      "Epoch 5/50\n",
      "\u001b[1m132/132\u001b[0m \u001b[32m━━━━━━━━━━━━━━━━━━━━\u001b[0m\u001b[37m\u001b[0m \u001b[1m1s\u001b[0m 6ms/step - Accuracy: 0.1677 - loss: 1.9796 - sensitivity: 0.1251 - specificity: 0.8571 - val_Accuracy: 0.1837 - val_loss: 1.9451 - val_sensitivity: 0.1385 - val_specificity: 0.8571\n",
      "Epoch 6/50\n",
      "\u001b[1m132/132\u001b[0m \u001b[32m━━━━━━━━━━━━━━━━━━━━\u001b[0m\u001b[37m\u001b[0m \u001b[1m1s\u001b[0m 6ms/step - Accuracy: 0.1833 - loss: 1.9561 - sensitivity: 0.1376 - specificity: 0.8571 - val_Accuracy: 0.1837 - val_loss: 1.9388 - val_sensitivity: 0.1385 - val_specificity: 0.8571\n",
      "Epoch 7/50\n",
      "\u001b[1m132/132\u001b[0m \u001b[32m━━━━━━━━━━━━━━━━━━━━\u001b[0m\u001b[37m\u001b[0m \u001b[1m1s\u001b[0m 6ms/step - Accuracy: 0.1062 - loss: 1.9741 - sensitivity: 0.1078 - specificity: 0.8571 - val_Accuracy: 0.0530 - val_loss: 1.9441 - val_sensitivity: 0.0779 - val_specificity: 0.8570\n",
      "Epoch 8/50\n",
      "\u001b[1m132/132\u001b[0m \u001b[32m━━━━━━━━━━━━━━━━━━━━\u001b[0m\u001b[37m\u001b[0m \u001b[1m1s\u001b[0m 6ms/step - Accuracy: 0.1517 - loss: 1.9133 - sensitivity: 0.1274 - specificity: 0.8575 - val_Accuracy: 0.1875 - val_loss: 1.9436 - val_sensitivity: 0.1342 - val_specificity: 0.8571\n",
      "Epoch 9/50\n",
      "\u001b[1m132/132\u001b[0m \u001b[32m━━━━━━━━━━━━━━━━━━━━\u001b[0m\u001b[37m\u001b[0m \u001b[1m1s\u001b[0m 6ms/step - Accuracy: 0.2041 - loss: 1.9149 - sensitivity: 0.1353 - specificity: 0.8571 - val_Accuracy: 0.1875 - val_loss: 1.9437 - val_sensitivity: 0.1342 - val_specificity: 0.8571\n",
      "Epoch 10/50\n",
      "\u001b[1m132/132\u001b[0m \u001b[32m━━━━━━━━━━━━━━━━━━━━\u001b[0m\u001b[37m\u001b[0m \u001b[1m1s\u001b[0m 6ms/step - Accuracy: 0.1830 - loss: 1.9262 - sensitivity: 0.1395 - specificity: 0.8571 - val_Accuracy: 0.1875 - val_loss: 1.9436 - val_sensitivity: 0.1342 - val_specificity: 0.8571\n",
      "Epoch 11/50\n",
      "\u001b[1m132/132\u001b[0m \u001b[32m━━━━━━━━━━━━━━━━━━━━\u001b[0m\u001b[37m\u001b[0m \u001b[1m1s\u001b[0m 6ms/step - Accuracy: 0.1942 - loss: 1.9705 - sensitivity: 0.1385 - specificity: 0.8570 - val_Accuracy: 0.1875 - val_loss: 1.9445 - val_sensitivity: 0.1342 - val_specificity: 0.8571\n",
      "Epoch 12/50\n",
      "\u001b[1m132/132\u001b[0m \u001b[32m━━━━━━━━━━━━━━━━━━━━\u001b[0m\u001b[37m\u001b[0m \u001b[1m1s\u001b[0m 6ms/step - Accuracy: 0.1774 - loss: 1.9263 - sensitivity: 0.1352 - specificity: 0.8571 - val_Accuracy: 0.1837 - val_loss: 1.9435 - val_sensitivity: 0.1385 - val_specificity: 0.8571\n",
      "Epoch 13/50\n",
      "\u001b[1m132/132\u001b[0m \u001b[32m━━━━━━━━━━━━━━━━━━━━\u001b[0m\u001b[37m\u001b[0m \u001b[1m1s\u001b[0m 6ms/step - Accuracy: 0.2097 - loss: 1.9363 - sensitivity: 0.1410 - specificity: 0.8571 - val_Accuracy: 0.1875 - val_loss: 1.9430 - val_sensitivity: 0.1342 - val_specificity: 0.8571\n",
      "Epoch 14/50\n",
      "\u001b[1m132/132\u001b[0m \u001b[32m━━━━━━━━━━━━━━━━━━━━\u001b[0m\u001b[37m\u001b[0m \u001b[1m1s\u001b[0m 6ms/step - Accuracy: 0.1905 - loss: 1.8910 - sensitivity: 0.1402 - specificity: 0.8571 - val_Accuracy: 0.1837 - val_loss: 1.9437 - val_sensitivity: 0.1385 - val_specificity: 0.8571\n",
      "Epoch 15/50\n",
      "\u001b[1m132/132\u001b[0m \u001b[32m━━━━━━━━━━━━━━━━━━━━\u001b[0m\u001b[37m\u001b[0m \u001b[1m1s\u001b[0m 6ms/step - Accuracy: 0.2122 - loss: 1.9170 - sensitivity: 0.1399 - specificity: 0.8571 - val_Accuracy: 0.1837 - val_loss: 1.9440 - val_sensitivity: 0.1385 - val_specificity: 0.8571\n",
      "Epoch 16/50\n",
      "\u001b[1m132/132\u001b[0m \u001b[32m━━━━━━━━━━━━━━━━━━━━\u001b[0m\u001b[37m\u001b[0m \u001b[1m1s\u001b[0m 6ms/step - Accuracy: 0.1896 - loss: 1.9610 - sensitivity: 0.1420 - specificity: 0.8571 - val_Accuracy: 0.1837 - val_loss: 1.9436 - val_sensitivity: 0.1385 - val_specificity: 0.8571\n",
      "Epoch 17/50\n",
      "\u001b[1m132/132\u001b[0m \u001b[32m━━━━━━━━━━━━━━━━━━━━\u001b[0m\u001b[37m\u001b[0m \u001b[1m1s\u001b[0m 7ms/step - Accuracy: 0.1892 - loss: 1.8881 - sensitivity: 0.1426 - specificity: 0.8571 - val_Accuracy: 0.1837 - val_loss: 1.9432 - val_sensitivity: 0.1385 - val_specificity: 0.8571\n",
      "Epoch 18/50\n",
      "\u001b[1m132/132\u001b[0m \u001b[32m━━━━━━━━━━━━━━━━━━━━\u001b[0m\u001b[37m\u001b[0m \u001b[1m1s\u001b[0m 6ms/step - Accuracy: 0.1617 - loss: 1.9232 - sensitivity: 0.1305 - specificity: 0.8571 - val_Accuracy: 0.1837 - val_loss: 1.9434 - val_sensitivity: 0.1385 - val_specificity: 0.8571\n",
      "Epoch 19/50\n",
      "\u001b[1m132/132\u001b[0m \u001b[32m━━━━━━━━━━━━━━━━━━━━\u001b[0m\u001b[37m\u001b[0m \u001b[1m1s\u001b[0m 6ms/step - Accuracy: 0.1907 - loss: 1.9601 - sensitivity: 0.1403 - specificity: 0.8571 - val_Accuracy: 0.1837 - val_loss: 1.9437 - val_sensitivity: 0.1385 - val_specificity: 0.8571\n",
      "Epoch 20/50\n",
      "\u001b[1m132/132\u001b[0m \u001b[32m━━━━━━━━━━━━━━━━━━━━\u001b[0m\u001b[37m\u001b[0m \u001b[1m1s\u001b[0m 6ms/step - Accuracy: 0.2102 - loss: 1.9367 - sensitivity: 0.1408 - specificity: 0.8571 - val_Accuracy: 0.1837 - val_loss: 1.9436 - val_sensitivity: 0.1385 - val_specificity: 0.8571\n",
      "Epoch 21/50\n",
      "\u001b[1m132/132\u001b[0m \u001b[32m━━━━━━━━━━━━━━━━━━━━\u001b[0m\u001b[37m\u001b[0m \u001b[1m1s\u001b[0m 6ms/step - Accuracy: 0.1902 - loss: 1.9578 - sensitivity: 0.1394 - specificity: 0.8572 - val_Accuracy: 0.1837 - val_loss: 1.9438 - val_sensitivity: 0.1385 - val_specificity: 0.8571\n",
      "Epoch 21: early stopping\n",
      "Restoring model weights from the end of the best epoch: 1.\n"
     ]
    }
   ],
   "source": [
    "es = EarlyStopping(\n",
    "    monitor = \"val_Accuracy\",\n",
    "    patience = 20,\n",
    "    verbose = 1,\n",
    "    restore_best_weights = True,\n",
    ")\n",
    "\n",
    "history_cnn = model_cnn.fit(\n",
    "    x = X_train,\n",
    "    y = labels_train,\n",
    "    validation_data = (X_val,labels_val),\n",
    "    batch_size = 16,\n",
    "    epochs = 50,\n",
    "    callbacks = [es],\n",
    "    class_weight = class_weights\n",
    ")"
   ]
  },
  {
   "cell_type": "code",
   "execution_count": 28,
   "metadata": {
    "execution": {
     "iopub.execute_input": "2024-11-29T02:04:05.660332Z",
     "iopub.status.busy": "2024-11-29T02:04:05.659579Z",
     "iopub.status.idle": "2024-11-29T02:04:06.051896Z",
     "shell.execute_reply": "2024-11-29T02:04:06.051089Z",
     "shell.execute_reply.started": "2024-11-29T02:04:05.660298Z"
    },
    "trusted": true
   },
   "outputs": [
    {
     "data": {
      "image/png": "[encoded data removed]",
      "text/plain": [
       "<Figure size 1000x500 with 2 Axes>"
      ]
     },
     "metadata": {},
     "output_type": "display_data"
    }
   ],
   "source": [
    "fig = plt.figure(figsize=(10,5))\n",
    "\n",
    "ax = fig.add_subplot(1,2,1)\n",
    "ax.plot(history_cnn.history['Accuracy'],label='Accuracy')\n",
    "ax.plot(history_cnn.history['sensitivity'],label='Sensitivity')\n",
    "ax.plot(history_cnn.history['specificity'],label='Specificity')\n",
    "ax.set_title('Train')\n",
    "ax.legend()\n",
    "\n",
    "ax = fig.add_subplot(1,2,2)\n",
    "ax.plot(history_cnn.history['val_Accuracy'],label='Accuracy')\n",
    "ax.plot(history_cnn.history['val_sensitivity'],label='Sensitivity')\n",
    "ax.plot(history_cnn.history['val_specificity'],label='Specificity')\n",
    "ax.set_title('Validation')\n",
    "\n",
    "plt.show()"
   ]
  },
  {
   "cell_type": "markdown",
   "metadata": {},
   "source": [
    "Tanto el training como el validation entregaron resultados similares, con un Accuracy de caso el 20% en ambos casos. Con respecto a la especificidad, tanto el train como el validation dieron exactamente igual y de un valor muy alto, mientras que la sensibilidad fue ligeramente mayor en la validación.\n",
    "\n",
    "La red posee claras limitaciones para distinguir las imágenes de las distintas clases de patologías, donde el 20% de las veces puede clasificarlas correctamente. Existen distinas hipótesis que pueden explicar la dificultad para clasificar las imágenes correctamente.\n",
    "\n",
    "La primera de ellas consiste en la naturaleza propia del dataset por encontrarse desbalanceado. Otra de las razones puede deberse al tipo de imágenes propiamente dichas, las cuales consisten en fotografías de lesiones en la piel cuya similitud es muy alta. Acoplado a esta última hipótesis, se encuentra el hecho de que la red convolucional es pequeña, de baja capacidad de cómputo. Por último, existe la posibilidad de que la clasificación de las imágenes entregue mejores resultados llevando a cabo un procesamiento más fino de las imágenes iniciales, como por ejemplo, la utilización de una sola de las capas RGB más distintivas de las imágenes, como la G o la B, debido a los tonos rojizos de las imágenes. Suponemos que el contraste en estas capas puedan revelar detalles que las imágenes a RGB no ofrezcan y/o la red no es capaz de reconocer debido a su corta extensión."
   ]
  },
  {
   "cell_type": "markdown",
   "metadata": {},
   "source": [
    "# CNN con regularización y entrenamiento"
   ]
  },
  {
   "cell_type": "markdown",
   "metadata": {},
   "source": [
    "Se agregan etapas de data augmentation y un pequeño dropout a la red convolucional anterior."
   ]
  },
  {
   "cell_type": "code",
   "execution_count": 32,
   "metadata": {
    "execution": {
     "iopub.execute_input": "2024-11-29T02:05:58.477459Z",
     "iopub.status.busy": "2024-11-29T02:05:58.476797Z",
     "iopub.status.idle": "2024-11-29T02:05:58.567037Z",
     "shell.execute_reply": "2024-11-29T02:05:58.566425Z",
     "shell.execute_reply.started": "2024-11-29T02:05:58.477424Z"
    },
    "trusted": true
   },
   "outputs": [
    {
     "data": {
      "text/html": [
       "<pre style=\"white-space:pre;overflow-x:auto;line-height:normal;font-family:Menlo,'DejaVu Sans Mono',consolas,'Courier New',monospace\"><span style=\"font-weight: bold\">Model: \"functional_15\"</span>\n",
       "</pre>\n"
      ],
      "text/plain": [
       "\u001b[1mModel: \"functional_15\"\u001b[0m\n"
      ]
     },
     "metadata": {},
     "output_type": "display_data"
    },
    {
     "data": {
      "text/html": [
       "<pre style=\"white-space:pre;overflow-x:auto;line-height:normal;font-family:Menlo,'DejaVu Sans Mono',consolas,'Courier New',monospace\">┏━━━━━━━━━━━━━━━━━━━━━━━━━━━━━━━━━┳━━━━━━━━━━━━━━━━━━━━━━━━┳━━━━━━━━━━━━━━━┓\n",
       "┃<span style=\"font-weight: bold\"> Layer (type)                    </span>┃<span style=\"font-weight: bold\"> Output Shape           </span>┃<span style=\"font-weight: bold\">       Param # </span>┃\n",
       "┡━━━━━━━━━━━━━━━━━━━━━━━━━━━━━━━━━╇━━━━━━━━━━━━━━━━━━━━━━━━╇━━━━━━━━━━━━━━━┩\n",
       "│ input_layer_8 (<span style=\"color: #0087ff; text-decoration-color: #0087ff\">InputLayer</span>)      │ (<span style=\"color: #00d7ff; text-decoration-color: #00d7ff\">None</span>, <span style=\"color: #00af00; text-decoration-color: #00af00\">100</span>, <span style=\"color: #00af00; text-decoration-color: #00af00\">133</span>, <span style=\"color: #00af00; text-decoration-color: #00af00\">3</span>)    │             <span style=\"color: #00af00; text-decoration-color: #00af00\">0</span> │\n",
       "├─────────────────────────────────┼────────────────────────┼───────────────┤\n",
       "│ conv2d_19 (<span style=\"color: #0087ff; text-decoration-color: #0087ff\">Conv2D</span>)              │ (<span style=\"color: #00d7ff; text-decoration-color: #00d7ff\">None</span>, <span style=\"color: #00af00; text-decoration-color: #00af00\">98</span>, <span style=\"color: #00af00; text-decoration-color: #00af00\">131</span>, <span style=\"color: #00af00; text-decoration-color: #00af00\">16</span>)    │           <span style=\"color: #00af00; text-decoration-color: #00af00\">448</span> │\n",
       "├─────────────────────────────────┼────────────────────────┼───────────────┤\n",
       "│ max_pooling2d_19 (<span style=\"color: #0087ff; text-decoration-color: #0087ff\">MaxPooling2D</span>) │ (<span style=\"color: #00d7ff; text-decoration-color: #00d7ff\">None</span>, <span style=\"color: #00af00; text-decoration-color: #00af00\">49</span>, <span style=\"color: #00af00; text-decoration-color: #00af00\">65</span>, <span style=\"color: #00af00; text-decoration-color: #00af00\">16</span>)     │             <span style=\"color: #00af00; text-decoration-color: #00af00\">0</span> │\n",
       "├─────────────────────────────────┼────────────────────────┼───────────────┤\n",
       "│ conv2d_20 (<span style=\"color: #0087ff; text-decoration-color: #0087ff\">Conv2D</span>)              │ (<span style=\"color: #00d7ff; text-decoration-color: #00d7ff\">None</span>, <span style=\"color: #00af00; text-decoration-color: #00af00\">47</span>, <span style=\"color: #00af00; text-decoration-color: #00af00\">63</span>, <span style=\"color: #00af00; text-decoration-color: #00af00\">32</span>)     │         <span style=\"color: #00af00; text-decoration-color: #00af00\">4,640</span> │\n",
       "├─────────────────────────────────┼────────────────────────┼───────────────┤\n",
       "│ max_pooling2d_20 (<span style=\"color: #0087ff; text-decoration-color: #0087ff\">MaxPooling2D</span>) │ (<span style=\"color: #00d7ff; text-decoration-color: #00d7ff\">None</span>, <span style=\"color: #00af00; text-decoration-color: #00af00\">23</span>, <span style=\"color: #00af00; text-decoration-color: #00af00\">31</span>, <span style=\"color: #00af00; text-decoration-color: #00af00\">32</span>)     │             <span style=\"color: #00af00; text-decoration-color: #00af00\">0</span> │\n",
       "├─────────────────────────────────┼────────────────────────┼───────────────┤\n",
       "│ conv2d_21 (<span style=\"color: #0087ff; text-decoration-color: #0087ff\">Conv2D</span>)              │ (<span style=\"color: #00d7ff; text-decoration-color: #00d7ff\">None</span>, <span style=\"color: #00af00; text-decoration-color: #00af00\">21</span>, <span style=\"color: #00af00; text-decoration-color: #00af00\">29</span>, <span style=\"color: #00af00; text-decoration-color: #00af00\">64</span>)     │        <span style=\"color: #00af00; text-decoration-color: #00af00\">18,496</span> │\n",
       "├─────────────────────────────────┼────────────────────────┼───────────────┤\n",
       "│ max_pooling2d_21 (<span style=\"color: #0087ff; text-decoration-color: #0087ff\">MaxPooling2D</span>) │ (<span style=\"color: #00d7ff; text-decoration-color: #00d7ff\">None</span>, <span style=\"color: #00af00; text-decoration-color: #00af00\">10</span>, <span style=\"color: #00af00; text-decoration-color: #00af00\">14</span>, <span style=\"color: #00af00; text-decoration-color: #00af00\">64</span>)     │             <span style=\"color: #00af00; text-decoration-color: #00af00\">0</span> │\n",
       "├─────────────────────────────────┼────────────────────────┼───────────────┤\n",
       "│ flatten_8 (<span style=\"color: #0087ff; text-decoration-color: #0087ff\">Flatten</span>)             │ (<span style=\"color: #00d7ff; text-decoration-color: #00d7ff\">None</span>, <span style=\"color: #00af00; text-decoration-color: #00af00\">8960</span>)           │             <span style=\"color: #00af00; text-decoration-color: #00af00\">0</span> │\n",
       "├─────────────────────────────────┼────────────────────────┼───────────────┤\n",
       "│ dense_30 (<span style=\"color: #0087ff; text-decoration-color: #0087ff\">Dense</span>)                │ (<span style=\"color: #00d7ff; text-decoration-color: #00d7ff\">None</span>, <span style=\"color: #00af00; text-decoration-color: #00af00\">512</span>)            │     <span style=\"color: #00af00; text-decoration-color: #00af00\">4,588,032</span> │\n",
       "├─────────────────────────────────┼────────────────────────┼───────────────┤\n",
       "│ dense_31 (<span style=\"color: #0087ff; text-decoration-color: #0087ff\">Dense</span>)                │ (<span style=\"color: #00d7ff; text-decoration-color: #00d7ff\">None</span>, <span style=\"color: #00af00; text-decoration-color: #00af00\">256</span>)            │       <span style=\"color: #00af00; text-decoration-color: #00af00\">131,328</span> │\n",
       "├─────────────────────────────────┼────────────────────────┼───────────────┤\n",
       "│ dropout_1 (<span style=\"color: #0087ff; text-decoration-color: #0087ff\">Dropout</span>)             │ (<span style=\"color: #00d7ff; text-decoration-color: #00d7ff\">None</span>, <span style=\"color: #00af00; text-decoration-color: #00af00\">256</span>)            │             <span style=\"color: #00af00; text-decoration-color: #00af00\">0</span> │\n",
       "├─────────────────────────────────┼────────────────────────┼───────────────┤\n",
       "│ dense_32 (<span style=\"color: #0087ff; text-decoration-color: #0087ff\">Dense</span>)                │ (<span style=\"color: #00d7ff; text-decoration-color: #00d7ff\">None</span>, <span style=\"color: #00af00; text-decoration-color: #00af00\">128</span>)            │        <span style=\"color: #00af00; text-decoration-color: #00af00\">32,896</span> │\n",
       "├─────────────────────────────────┼────────────────────────┼───────────────┤\n",
       "│ dense_33 (<span style=\"color: #0087ff; text-decoration-color: #0087ff\">Dense</span>)                │ (<span style=\"color: #00d7ff; text-decoration-color: #00d7ff\">None</span>, <span style=\"color: #00af00; text-decoration-color: #00af00\">7</span>)              │           <span style=\"color: #00af00; text-decoration-color: #00af00\">903</span> │\n",
       "└─────────────────────────────────┴────────────────────────┴───────────────┘\n",
       "</pre>\n"
      ],
      "text/plain": [
       "┏━━━━━━━━━━━━━━━━━━━━━━━━━━━━━━━━━┳━━━━━━━━━━━━━━━━━━━━━━━━┳━━━━━━━━━━━━━━━┓\n",
       "┃\u001b[1m \u001b[0m\u001b[1mLayer (type)                   \u001b[0m\u001b[1m \u001b[0m┃\u001b[1m \u001b[0m\u001b[1mOutput Shape          \u001b[0m\u001b[1m \u001b[0m┃\u001b[1m \u001b[0m\u001b[1m      Param #\u001b[0m\u001b[1m \u001b[0m┃\n",
       "┡━━━━━━━━━━━━━━━━━━━━━━━━━━━━━━━━━╇━━━━━━━━━━━━━━━━━━━━━━━━╇━━━━━━━━━━━━━━━┩\n",
       "│ input_layer_8 (\u001b[38;5;33mInputLayer\u001b[0m)      │ (\u001b[38;5;45mNone\u001b[0m, \u001b[38;5;34m100\u001b[0m, \u001b[38;5;34m133\u001b[0m, \u001b[38;5;34m3\u001b[0m)    │             \u001b[38;5;34m0\u001b[0m │\n",
       "├─────────────────────────────────┼────────────────────────┼───────────────┤\n",
       "│ conv2d_19 (\u001b[38;5;33mConv2D\u001b[0m)              │ (\u001b[38;5;45mNone\u001b[0m, \u001b[38;5;34m98\u001b[0m, \u001b[38;5;34m131\u001b[0m, \u001b[38;5;34m16\u001b[0m)    │           \u001b[38;5;34m448\u001b[0m │\n",
       "├─────────────────────────────────┼────────────────────────┼───────────────┤\n",
       "│ max_pooling2d_19 (\u001b[38;5;33mMaxPooling2D\u001b[0m) │ (\u001b[38;5;45mNone\u001b[0m, \u001b[38;5;34m49\u001b[0m, \u001b[38;5;34m65\u001b[0m, \u001b[38;5;34m16\u001b[0m)     │             \u001b[38;5;34m0\u001b[0m │\n",
       "├─────────────────────────────────┼────────────────────────┼───────────────┤\n",
       "│ conv2d_20 (\u001b[38;5;33mConv2D\u001b[0m)              │ (\u001b[38;5;45mNone\u001b[0m, \u001b[38;5;34m47\u001b[0m, \u001b[38;5;34m63\u001b[0m, \u001b[38;5;34m32\u001b[0m)     │         \u001b[38;5;34m4,640\u001b[0m │\n",
       "├─────────────────────────────────┼────────────────────────┼───────────────┤\n",
       "│ max_pooling2d_20 (\u001b[38;5;33mMaxPooling2D\u001b[0m) │ (\u001b[38;5;45mNone\u001b[0m, \u001b[38;5;34m23\u001b[0m, \u001b[38;5;34m31\u001b[0m, \u001b[38;5;34m32\u001b[0m)     │             \u001b[38;5;34m0\u001b[0m │\n",
       "├─────────────────────────────────┼────────────────────────┼───────────────┤\n",
       "│ conv2d_21 (\u001b[38;5;33mConv2D\u001b[0m)              │ (\u001b[38;5;45mNone\u001b[0m, \u001b[38;5;34m21\u001b[0m, \u001b[38;5;34m29\u001b[0m, \u001b[38;5;34m64\u001b[0m)     │        \u001b[38;5;34m18,496\u001b[0m │\n",
       "├─────────────────────────────────┼────────────────────────┼───────────────┤\n",
       "│ max_pooling2d_21 (\u001b[38;5;33mMaxPooling2D\u001b[0m) │ (\u001b[38;5;45mNone\u001b[0m, \u001b[38;5;34m10\u001b[0m, \u001b[38;5;34m14\u001b[0m, \u001b[38;5;34m64\u001b[0m)     │             \u001b[38;5;34m0\u001b[0m │\n",
       "├─────────────────────────────────┼────────────────────────┼───────────────┤\n",
       "│ flatten_8 (\u001b[38;5;33mFlatten\u001b[0m)             │ (\u001b[38;5;45mNone\u001b[0m, \u001b[38;5;34m8960\u001b[0m)           │             \u001b[38;5;34m0\u001b[0m │\n",
       "├─────────────────────────────────┼────────────────────────┼───────────────┤\n",
       "│ dense_30 (\u001b[38;5;33mDense\u001b[0m)                │ (\u001b[38;5;45mNone\u001b[0m, \u001b[38;5;34m512\u001b[0m)            │     \u001b[38;5;34m4,588,032\u001b[0m │\n",
       "├─────────────────────────────────┼────────────────────────┼───────────────┤\n",
       "│ dense_31 (\u001b[38;5;33mDense\u001b[0m)                │ (\u001b[38;5;45mNone\u001b[0m, \u001b[38;5;34m256\u001b[0m)            │       \u001b[38;5;34m131,328\u001b[0m │\n",
       "├─────────────────────────────────┼────────────────────────┼───────────────┤\n",
       "│ dropout_1 (\u001b[38;5;33mDropout\u001b[0m)             │ (\u001b[38;5;45mNone\u001b[0m, \u001b[38;5;34m256\u001b[0m)            │             \u001b[38;5;34m0\u001b[0m │\n",
       "├─────────────────────────────────┼────────────────────────┼───────────────┤\n",
       "│ dense_32 (\u001b[38;5;33mDense\u001b[0m)                │ (\u001b[38;5;45mNone\u001b[0m, \u001b[38;5;34m128\u001b[0m)            │        \u001b[38;5;34m32,896\u001b[0m │\n",
       "├─────────────────────────────────┼────────────────────────┼───────────────┤\n",
       "│ dense_33 (\u001b[38;5;33mDense\u001b[0m)                │ (\u001b[38;5;45mNone\u001b[0m, \u001b[38;5;34m7\u001b[0m)              │           \u001b[38;5;34m903\u001b[0m │\n",
       "└─────────────────────────────────┴────────────────────────┴───────────────┘\n"
      ]
     },
     "metadata": {},
     "output_type": "display_data"
    },
    {
     "data": {
      "text/html": [
       "<pre style=\"white-space:pre;overflow-x:auto;line-height:normal;font-family:Menlo,'DejaVu Sans Mono',consolas,'Courier New',monospace\"><span style=\"font-weight: bold\"> Total params: </span><span style=\"color: #00af00; text-decoration-color: #00af00\">4,776,743</span> (18.22 MB)\n",
       "</pre>\n"
      ],
      "text/plain": [
       "\u001b[1m Total params: \u001b[0m\u001b[38;5;34m4,776,743\u001b[0m (18.22 MB)\n"
      ]
     },
     "metadata": {},
     "output_type": "display_data"
    },
    {
     "data": {
      "text/html": [
       "<pre style=\"white-space:pre;overflow-x:auto;line-height:normal;font-family:Menlo,'DejaVu Sans Mono',consolas,'Courier New',monospace\"><span style=\"font-weight: bold\"> Trainable params: </span><span style=\"color: #00af00; text-decoration-color: #00af00\">4,776,743</span> (18.22 MB)\n",
       "</pre>\n"
      ],
      "text/plain": [
       "\u001b[1m Trainable params: \u001b[0m\u001b[38;5;34m4,776,743\u001b[0m (18.22 MB)\n"
      ]
     },
     "metadata": {},
     "output_type": "display_data"
    },
    {
     "data": {
      "text/html": [
       "<pre style=\"white-space:pre;overflow-x:auto;line-height:normal;font-family:Menlo,'DejaVu Sans Mono',consolas,'Courier New',monospace\"><span style=\"font-weight: bold\"> Non-trainable params: </span><span style=\"color: #00af00; text-decoration-color: #00af00\">0</span> (0.00 B)\n",
       "</pre>\n"
      ],
      "text/plain": [
       "\u001b[1m Non-trainable params: \u001b[0m\u001b[38;5;34m0\u001b[0m (0.00 B)\n"
      ]
     },
     "metadata": {},
     "output_type": "display_data"
    }
   ],
   "source": [
    "lr = 0.001\n",
    "\n",
    "# Input\n",
    "input = Input(shape=(100, 133, 3))\n",
    "\n",
    "data_augmentation = RandomFlip(\"horizontal\", name='random_flip')(input)\n",
    "data_augmentation = RandomRotation(0.1, name='random_rotation')(data_augmentation)\n",
    "data_augmentation = RandomZoom(0.1, name='random_zoom')(data_augmentation)\n",
    "data_augmentation = RandomContrast(0.2, name='random_contrast')(data_augmentation)\n",
    "data_augmentation = RandomTranslation(height_factor=0.1, width_factor=0.1)(data_augmentation)\n",
    "\n",
    "# Body - Convolution\n",
    "x = Conv2D(16, (3, 3), activation='relu')(input)\n",
    "x = MaxPooling2D(2, 2)(x)\n",
    "x = Conv2D(32, (3, 3), activation='relu')(x)\n",
    "x = MaxPooling2D(2, 2)(x)\n",
    "x = Conv2D(64, (3, 3), activation='relu')(x)\n",
    "x = MaxPooling2D(2, 2)(x)\n",
    "x = Flatten()(x)\n",
    "\n",
    "# Body - Dense\n",
    "x = Dense(512, activation='relu')(x)\n",
    "x = Dense(256, activation='relu')(x)\n",
    "x = Dropout(0.01)(x)\n",
    "x = Dense(128, activation='relu')(x)\n",
    "\n",
    "# Output\n",
    "output = Dense(7, activation='softmax')(x)\n",
    "\n",
    "model_cnn_reg = Model(input, output)\n",
    "\n",
    "model_cnn_reg.summary()\n",
    "\n",
    "model_cnn_reg.compile(\n",
    "    optimizer               = Adam(learning_rate=lr),\n",
    "    loss                    = 'categorical_crossentropy',\n",
    "    metrics                 = ['Accuracy',sensitivity,specificity]\n",
    ")"
   ]
  },
  {
   "cell_type": "code",
   "execution_count": 33,
   "metadata": {
    "execution": {
     "iopub.execute_input": "2024-11-29T02:06:01.640889Z",
     "iopub.status.busy": "2024-11-29T02:06:01.640063Z",
     "iopub.status.idle": "2024-11-29T02:06:33.858241Z",
     "shell.execute_reply": "2024-11-29T02:06:33.857358Z",
     "shell.execute_reply.started": "2024-11-29T02:06:01.640855Z"
    },
    "trusted": true
   },
   "outputs": [
    {
     "name": "stdout",
     "output_type": "stream",
     "text": [
      "Epoch 1/50\n",
      "\u001b[1m132/132\u001b[0m \u001b[32m━━━━━━━━━━━━━━━━━━━━\u001b[0m\u001b[37m\u001b[0m \u001b[1m14s\u001b[0m 13ms/step - Accuracy: 0.1481 - loss: 1.9268 - sensitivity: 0.1243 - specificity: 0.8574 - val_Accuracy: 0.1875 - val_loss: 1.9457 - val_sensitivity: 0.1385 - val_specificity: 0.8571\n",
      "Epoch 2/50\n",
      "\u001b[1m132/132\u001b[0m \u001b[32m━━━━━━━━━━━━━━━━━━━━\u001b[0m\u001b[37m\u001b[0m \u001b[1m1s\u001b[0m 6ms/step - Accuracy: 0.0979 - loss: 1.9406 - sensitivity: 0.0954 - specificity: 0.8572 - val_Accuracy: 0.1875 - val_loss: 1.9445 - val_sensitivity: 0.1385 - val_specificity: 0.8571\n",
      "Epoch 3/50\n",
      "\u001b[1m132/132\u001b[0m \u001b[32m━━━━━━━━━━━━━━━━━━━━\u001b[0m\u001b[37m\u001b[0m \u001b[1m1s\u001b[0m 6ms/step - Accuracy: 0.1875 - loss: 1.9907 - sensitivity: 0.1433 - specificity: 0.8572 - val_Accuracy: 0.1875 - val_loss: 1.9438 - val_sensitivity: 0.1385 - val_specificity: 0.8571\n",
      "Epoch 4/50\n",
      "\u001b[1m132/132\u001b[0m \u001b[32m━━━━━━━━━━━━━━━━━━━━\u001b[0m\u001b[37m\u001b[0m \u001b[1m1s\u001b[0m 6ms/step - Accuracy: 0.1863 - loss: 1.9322 - sensitivity: 0.1340 - specificity: 0.8572 - val_Accuracy: 0.1875 - val_loss: 1.9441 - val_sensitivity: 0.1385 - val_specificity: 0.8571\n",
      "Epoch 5/50\n",
      "\u001b[1m132/132\u001b[0m \u001b[32m━━━━━━━━━━━━━━━━━━━━\u001b[0m\u001b[37m\u001b[0m \u001b[1m1s\u001b[0m 6ms/step - Accuracy: 0.1297 - loss: 1.9769 - sensitivity: 0.1090 - specificity: 0.8571 - val_Accuracy: 0.1837 - val_loss: 1.9430 - val_sensitivity: 0.1385 - val_specificity: 0.8571\n",
      "Epoch 6/50\n",
      "\u001b[1m132/132\u001b[0m \u001b[32m━━━━━━━━━━━━━━━━━━━━\u001b[0m\u001b[37m\u001b[0m \u001b[1m1s\u001b[0m 6ms/step - Accuracy: 0.1780 - loss: 1.9289 - sensitivity: 0.1376 - specificity: 0.8570 - val_Accuracy: 0.1837 - val_loss: 1.9430 - val_sensitivity: 0.1385 - val_specificity: 0.8571\n",
      "Epoch 7/50\n",
      "\u001b[1m132/132\u001b[0m \u001b[32m━━━━━━━━━━━━━━━━━━━━\u001b[0m\u001b[37m\u001b[0m \u001b[1m1s\u001b[0m 6ms/step - Accuracy: 0.2152 - loss: 1.9620 - sensitivity: 0.1419 - specificity: 0.8571 - val_Accuracy: 0.1837 - val_loss: 1.9433 - val_sensitivity: 0.1385 - val_specificity: 0.8571\n",
      "Epoch 8/50\n",
      "\u001b[1m132/132\u001b[0m \u001b[32m━━━━━━━━━━━━━━━━━━━━\u001b[0m\u001b[37m\u001b[0m \u001b[1m1s\u001b[0m 6ms/step - Accuracy: 0.1532 - loss: 1.9624 - sensitivity: 0.1128 - specificity: 0.8573 - val_Accuracy: 0.1837 - val_loss: 1.9410 - val_sensitivity: 0.1385 - val_specificity: 0.8571\n",
      "Epoch 9/50\n",
      "\u001b[1m132/132\u001b[0m \u001b[32m━━━━━━━━━━━━━━━━━━━━\u001b[0m\u001b[37m\u001b[0m \u001b[1m1s\u001b[0m 6ms/step - Accuracy: 0.1715 - loss: 1.9867 - sensitivity: 0.1291 - specificity: 0.8571 - val_Accuracy: 0.1837 - val_loss: 1.9430 - val_sensitivity: 0.1385 - val_specificity: 0.8571\n",
      "Epoch 10/50\n",
      "\u001b[1m132/132\u001b[0m \u001b[32m━━━━━━━━━━━━━━━━━━━━\u001b[0m\u001b[37m\u001b[0m \u001b[1m1s\u001b[0m 6ms/step - Accuracy: 0.1756 - loss: 1.9511 - sensitivity: 0.1400 - specificity: 0.8572 - val_Accuracy: 0.1837 - val_loss: 1.9434 - val_sensitivity: 0.1385 - val_specificity: 0.8571\n",
      "Epoch 11/50\n",
      "\u001b[1m132/132\u001b[0m \u001b[32m━━━━━━━━━━━━━━━━━━━━\u001b[0m\u001b[37m\u001b[0m \u001b[1m1s\u001b[0m 6ms/step - Accuracy: 0.2020 - loss: 1.9355 - sensitivity: 0.1408 - specificity: 0.8570 - val_Accuracy: 0.1837 - val_loss: 1.9422 - val_sensitivity: 0.1385 - val_specificity: 0.8571\n",
      "Epoch 12/50\n",
      "\u001b[1m132/132\u001b[0m \u001b[32m━━━━━━━━━━━━━━━━━━━━\u001b[0m\u001b[37m\u001b[0m \u001b[1m1s\u001b[0m 6ms/step - Accuracy: 0.1971 - loss: 1.9664 - sensitivity: 0.1384 - specificity: 0.8572 - val_Accuracy: 0.1837 - val_loss: 1.9434 - val_sensitivity: 0.1385 - val_specificity: 0.8571\n",
      "Epoch 13/50\n",
      "\u001b[1m132/132\u001b[0m \u001b[32m━━━━━━━━━━━━━━━━━━━━\u001b[0m\u001b[37m\u001b[0m \u001b[1m1s\u001b[0m 6ms/step - Accuracy: 0.1815 - loss: 1.9601 - sensitivity: 0.1309 - specificity: 0.8572 - val_Accuracy: 0.0530 - val_loss: 1.9432 - val_sensitivity: 0.0779 - val_specificity: 0.8571\n",
      "Epoch 14/50\n",
      "\u001b[1m132/132\u001b[0m \u001b[32m━━━━━━━━━━━━━━━━━━━━\u001b[0m\u001b[37m\u001b[0m \u001b[1m1s\u001b[0m 6ms/step - Accuracy: 0.0619 - loss: 1.9422 - sensitivity: 0.0826 - specificity: 0.8571 - val_Accuracy: 0.1875 - val_loss: 1.9435 - val_sensitivity: 0.1342 - val_specificity: 0.8571\n",
      "Epoch 15/50\n",
      "\u001b[1m132/132\u001b[0m \u001b[32m━━━━━━━━━━━━━━━━━━━━\u001b[0m\u001b[37m\u001b[0m \u001b[1m1s\u001b[0m 6ms/step - Accuracy: 0.1728 - loss: 1.9176 - sensitivity: 0.1358 - specificity: 0.8571 - val_Accuracy: 0.1875 - val_loss: 1.9435 - val_sensitivity: 0.1385 - val_specificity: 0.8571\n",
      "Epoch 16/50\n",
      "\u001b[1m132/132\u001b[0m \u001b[32m━━━━━━━━━━━━━━━━━━━━\u001b[0m\u001b[37m\u001b[0m \u001b[1m1s\u001b[0m 6ms/step - Accuracy: 0.1877 - loss: 1.9377 - sensitivity: 0.1355 - specificity: 0.8572 - val_Accuracy: 0.1875 - val_loss: 1.9442 - val_sensitivity: 0.1342 - val_specificity: 0.8571\n",
      "Epoch 17/50\n",
      "\u001b[1m132/132\u001b[0m \u001b[32m━━━━━━━━━━━━━━━━━━━━\u001b[0m\u001b[37m\u001b[0m \u001b[1m1s\u001b[0m 6ms/step - Accuracy: 0.2018 - loss: 1.9487 - sensitivity: 0.1381 - specificity: 0.8571 - val_Accuracy: 0.1875 - val_loss: 1.9437 - val_sensitivity: 0.1385 - val_specificity: 0.8571\n",
      "Epoch 18/50\n",
      "\u001b[1m132/132\u001b[0m \u001b[32m━━━━━━━━━━━━━━━━━━━━\u001b[0m\u001b[37m\u001b[0m \u001b[1m1s\u001b[0m 6ms/step - Accuracy: 0.1256 - loss: 1.9946 - sensitivity: 0.1122 - specificity: 0.8571 - val_Accuracy: 0.1875 - val_loss: 1.9428 - val_sensitivity: 0.1385 - val_specificity: 0.8571\n",
      "Epoch 19/50\n",
      "\u001b[1m132/132\u001b[0m \u001b[32m━━━━━━━━━━━━━━━━━━━━\u001b[0m\u001b[37m\u001b[0m \u001b[1m1s\u001b[0m 6ms/step - Accuracy: 0.2035 - loss: 1.9338 - sensitivity: 0.1419 - specificity: 0.8571 - val_Accuracy: 0.1875 - val_loss: 1.9433 - val_sensitivity: 0.1385 - val_specificity: 0.8571\n",
      "Epoch 20/50\n",
      "\u001b[1m132/132\u001b[0m \u001b[32m━━━━━━━━━━━━━━━━━━━━\u001b[0m\u001b[37m\u001b[0m \u001b[1m1s\u001b[0m 6ms/step - Accuracy: 0.1832 - loss: 1.8897 - sensitivity: 0.1360 - specificity: 0.8575 - val_Accuracy: 0.1837 - val_loss: 1.9442 - val_sensitivity: 0.1385 - val_specificity: 0.8571\n",
      "Epoch 21/50\n",
      "\u001b[1m132/132\u001b[0m \u001b[32m━━━━━━━━━━━━━━━━━━━━\u001b[0m\u001b[37m\u001b[0m \u001b[1m1s\u001b[0m 6ms/step - Accuracy: 0.1695 - loss: 1.9156 - sensitivity: 0.1280 - specificity: 0.8574 - val_Accuracy: 0.1837 - val_loss: 1.9435 - val_sensitivity: 0.1385 - val_specificity: 0.8571\n",
      "Epoch 21: early stopping\n",
      "Restoring model weights from the end of the best epoch: 1.\n"
     ]
    }
   ],
   "source": [
    "es = EarlyStopping(\n",
    "    monitor = \"val_Accuracy\",\n",
    "    patience = 20,\n",
    "    verbose = 1,\n",
    "    restore_best_weights = True,\n",
    ")\n",
    "\n",
    "history_cnn_reg = model_cnn_reg.fit(\n",
    "    x = X_train,\n",
    "    y = labels_train,\n",
    "    validation_data = (X_val,labels_val),\n",
    "    batch_size = 16,\n",
    "    epochs = 50,\n",
    "    callbacks = [es],\n",
    "    class_weight = class_weights\n",
    ")"
   ]
  },
  {
   "cell_type": "code",
   "execution_count": 34,
   "metadata": {
    "execution": {
     "iopub.execute_input": "2024-11-29T02:06:36.664617Z",
     "iopub.status.busy": "2024-11-29T02:06:36.663721Z",
     "iopub.status.idle": "2024-11-29T02:06:36.986408Z",
     "shell.execute_reply": "2024-11-29T02:06:36.985529Z",
     "shell.execute_reply.started": "2024-11-29T02:06:36.664566Z"
    },
    "trusted": true
   },
   "outputs": [
    {
     "data": {
      "image/png": "[encoded data removed]",
      "text/plain": [
       "<Figure size 1000x500 with 2 Axes>"
      ]
     },
     "metadata": {},
     "output_type": "display_data"
    }
   ],
   "source": [
    "fig = plt.figure(figsize=(10,5))\n",
    "\n",
    "ax = fig.add_subplot(1,2,1)\n",
    "ax.plot(history_cnn_reg.history['Accuracy'],label='Accuracy')\n",
    "ax.plot(history_cnn_reg.history['sensitivity'],label='Sensitivity')\n",
    "ax.plot(history_cnn_reg.history['specificity'],label='Specificity')\n",
    "ax.set_title('Train')\n",
    "ax.legend()\n",
    "\n",
    "ax = fig.add_subplot(1,2,2)\n",
    "ax.plot(history_cnn_reg.history['val_Accuracy'],label='Accuracy')\n",
    "ax.plot(history_cnn_reg.history['val_sensitivity'],label='Sensitivity')\n",
    "ax.plot(history_cnn_reg.history['val_specificity'],label='Specificity')\n",
    "ax.set_title('Validation')\n",
    "\n",
    "plt.show()"
   ]
  },
  {
   "cell_type": "markdown",
   "metadata": {},
   "source": [
    "Los resultados son muy similares al caso anterior, solo que el trainining registró un variación más fuerte.\n",
    "\n",
    "A pesar de agregar elementos de regularización, los mismos no lograron mejorar los resultados en la etapa de validación. Las hipótesis de porqué se obtienen estos resultados sigue siendo las mismas que en el caso anterior. Consideramos sumamente importante un procesamiento previo de las imágenes para destacar características significativas de las lesiones, puesto que la red no puede disinguirlas por sí misma."
   ]
  },
  {
   "cell_type": "markdown",
   "metadata": {},
   "source": [
    "## Conclusiones del análisis de los resultados de las dos redes anteriores\n",
    "\n",
    "Ambas redes presentan dificultades para comprender las características particulares de las 7 clases de patologías. En ambas redes, la sensibilidad o la capacidad de detectar verdaderos positivos es menor al 20%, pero la especificidad o la capacidad de distinguir verdaderos negativos es mayor al 80%."
   ]
  },
  {
   "cell_type": "markdown",
   "metadata": {},
   "source": [
    "# VGG - Entrenamiento con pesos del modelo congelado"
   ]
  },
  {
   "cell_type": "code",
   "execution_count": 38,
   "metadata": {
    "execution": {
     "iopub.execute_input": "2024-11-29T02:07:35.340556Z",
     "iopub.status.busy": "2024-11-29T02:07:35.340219Z",
     "iopub.status.idle": "2024-11-29T02:07:35.584084Z",
     "shell.execute_reply": "2024-11-29T02:07:35.583359Z",
     "shell.execute_reply.started": "2024-11-29T02:07:35.340528Z"
    },
    "trusted": true
   },
   "outputs": [],
   "source": [
    "# Cargar VGG16 preentrenada en ImageNet sin la capa superior\n",
    "base_model_vgg = VGG16(weights='imagenet', include_top=False, input_shape=(100, 133, 3))\n",
    "base_model_vgg.trainable = False  # Congelar capas de VGG16\n"
   ]
  },
  {
   "cell_type": "code",
   "execution_count": 39,
   "metadata": {
    "execution": {
     "iopub.execute_input": "2024-11-29T02:07:39.704793Z",
     "iopub.status.busy": "2024-11-29T02:07:39.703900Z",
     "iopub.status.idle": "2024-11-29T02:07:39.730654Z",
     "shell.execute_reply": "2024-11-29T02:07:39.730056Z",
     "shell.execute_reply.started": "2024-11-29T02:07:39.704753Z"
    },
    "trusted": true
   },
   "outputs": [
    {
     "data": {
      "text/html": [
       "<pre style=\"white-space:pre;overflow-x:auto;line-height:normal;font-family:Menlo,'DejaVu Sans Mono',consolas,'Courier New',monospace\"><span style=\"font-weight: bold\">Model: \"sequential_1\"</span>\n",
       "</pre>\n"
      ],
      "text/plain": [
       "\u001b[1mModel: \"sequential_1\"\u001b[0m\n"
      ]
     },
     "metadata": {},
     "output_type": "display_data"
    },
    {
     "data": {
      "text/html": [
       "<pre style=\"white-space:pre;overflow-x:auto;line-height:normal;font-family:Menlo,'DejaVu Sans Mono',consolas,'Courier New',monospace\">┏━━━━━━━━━━━━━━━━━━━━━━━━━━━━━━━━━┳━━━━━━━━━━━━━━━━━━━━━━━━┳━━━━━━━━━━━━━━━┓\n",
       "┃<span style=\"font-weight: bold\"> Layer (type)                    </span>┃<span style=\"font-weight: bold\"> Output Shape           </span>┃<span style=\"font-weight: bold\">       Param # </span>┃\n",
       "┡━━━━━━━━━━━━━━━━━━━━━━━━━━━━━━━━━╇━━━━━━━━━━━━━━━━━━━━━━━━╇━━━━━━━━━━━━━━━┩\n",
       "│ vgg16 (<span style=\"color: #0087ff; text-decoration-color: #0087ff\">Functional</span>)              │ ?                      │    <span style=\"color: #00af00; text-decoration-color: #00af00\">14,714,688</span> │\n",
       "├─────────────────────────────────┼────────────────────────┼───────────────┤\n",
       "│ flatten_10 (<span style=\"color: #0087ff; text-decoration-color: #0087ff\">Flatten</span>)            │ ?                      │   <span style=\"color: #00af00; text-decoration-color: #00af00\">0</span> (unbuilt) │\n",
       "├─────────────────────────────────┼────────────────────────┼───────────────┤\n",
       "│ dense_37 (<span style=\"color: #0087ff; text-decoration-color: #0087ff\">Dense</span>)                │ ?                      │   <span style=\"color: #00af00; text-decoration-color: #00af00\">0</span> (unbuilt) │\n",
       "├─────────────────────────────────┼────────────────────────┼───────────────┤\n",
       "│ dense_38 (<span style=\"color: #0087ff; text-decoration-color: #0087ff\">Dense</span>)                │ ?                      │   <span style=\"color: #00af00; text-decoration-color: #00af00\">0</span> (unbuilt) │\n",
       "├─────────────────────────────────┼────────────────────────┼───────────────┤\n",
       "│ dense_39 (<span style=\"color: #0087ff; text-decoration-color: #0087ff\">Dense</span>)                │ ?                      │   <span style=\"color: #00af00; text-decoration-color: #00af00\">0</span> (unbuilt) │\n",
       "└─────────────────────────────────┴────────────────────────┴───────────────┘\n",
       "</pre>\n"
      ],
      "text/plain": [
       "┏━━━━━━━━━━━━━━━━━━━━━━━━━━━━━━━━━┳━━━━━━━━━━━━━━━━━━━━━━━━┳━━━━━━━━━━━━━━━┓\n",
       "┃\u001b[1m \u001b[0m\u001b[1mLayer (type)                   \u001b[0m\u001b[1m \u001b[0m┃\u001b[1m \u001b[0m\u001b[1mOutput Shape          \u001b[0m\u001b[1m \u001b[0m┃\u001b[1m \u001b[0m\u001b[1m      Param #\u001b[0m\u001b[1m \u001b[0m┃\n",
       "┡━━━━━━━━━━━━━━━━━━━━━━━━━━━━━━━━━╇━━━━━━━━━━━━━━━━━━━━━━━━╇━━━━━━━━━━━━━━━┩\n",
       "│ vgg16 (\u001b[38;5;33mFunctional\u001b[0m)              │ ?                      │    \u001b[38;5;34m14,714,688\u001b[0m │\n",
       "├─────────────────────────────────┼────────────────────────┼───────────────┤\n",
       "│ flatten_10 (\u001b[38;5;33mFlatten\u001b[0m)            │ ?                      │   \u001b[38;5;34m0\u001b[0m (unbuilt) │\n",
       "├─────────────────────────────────┼────────────────────────┼───────────────┤\n",
       "│ dense_37 (\u001b[38;5;33mDense\u001b[0m)                │ ?                      │   \u001b[38;5;34m0\u001b[0m (unbuilt) │\n",
       "├─────────────────────────────────┼────────────────────────┼───────────────┤\n",
       "│ dense_38 (\u001b[38;5;33mDense\u001b[0m)                │ ?                      │   \u001b[38;5;34m0\u001b[0m (unbuilt) │\n",
       "├─────────────────────────────────┼────────────────────────┼───────────────┤\n",
       "│ dense_39 (\u001b[38;5;33mDense\u001b[0m)                │ ?                      │   \u001b[38;5;34m0\u001b[0m (unbuilt) │\n",
       "└─────────────────────────────────┴────────────────────────┴───────────────┘\n"
      ]
     },
     "metadata": {},
     "output_type": "display_data"
    },
    {
     "data": {
      "text/html": [
       "<pre style=\"white-space:pre;overflow-x:auto;line-height:normal;font-family:Menlo,'DejaVu Sans Mono',consolas,'Courier New',monospace\"><span style=\"font-weight: bold\"> Total params: </span><span style=\"color: #00af00; text-decoration-color: #00af00\">14,714,688</span> (56.13 MB)\n",
       "</pre>\n"
      ],
      "text/plain": [
       "\u001b[1m Total params: \u001b[0m\u001b[38;5;34m14,714,688\u001b[0m (56.13 MB)\n"
      ]
     },
     "metadata": {},
     "output_type": "display_data"
    },
    {
     "data": {
      "text/html": [
       "<pre style=\"white-space:pre;overflow-x:auto;line-height:normal;font-family:Menlo,'DejaVu Sans Mono',consolas,'Courier New',monospace\"><span style=\"font-weight: bold\"> Trainable params: </span><span style=\"color: #00af00; text-decoration-color: #00af00\">0</span> (0.00 B)\n",
       "</pre>\n"
      ],
      "text/plain": [
       "\u001b[1m Trainable params: \u001b[0m\u001b[38;5;34m0\u001b[0m (0.00 B)\n"
      ]
     },
     "metadata": {},
     "output_type": "display_data"
    },
    {
     "data": {
      "text/html": [
       "<pre style=\"white-space:pre;overflow-x:auto;line-height:normal;font-family:Menlo,'DejaVu Sans Mono',consolas,'Courier New',monospace\"><span style=\"font-weight: bold\"> Non-trainable params: </span><span style=\"color: #00af00; text-decoration-color: #00af00\">14,714,688</span> (56.13 MB)\n",
       "</pre>\n"
      ],
      "text/plain": [
       "\u001b[1m Non-trainable params: \u001b[0m\u001b[38;5;34m14,714,688\u001b[0m (56.13 MB)\n"
      ]
     },
     "metadata": {},
     "output_type": "display_data"
    }
   ],
   "source": [
    "lr = 0.0001\n",
    "\n",
    "# Construir el modelo\n",
    "model_vgg = Sequential([\n",
    "    base_model_vgg,\n",
    "    Flatten(),\n",
    "    Dense(1024, activation='relu'),\n",
    "    Dense(256, activation='relu'),\n",
    "    Dense(7, activation='softmax')\n",
    "])\n",
    "\n",
    "model_vgg.summary()\n",
    "\n",
    "# Compilar el modelo\n",
    "model_vgg.compile(optimizer=Adam(learning_rate=lr), loss='categorical_crossentropy', metrics=['Accuracy',sensitivity,specificity])\n"
   ]
  },
  {
   "cell_type": "code",
   "execution_count": 40,
   "metadata": {
    "execution": {
     "iopub.execute_input": "2024-11-29T02:07:48.403379Z",
     "iopub.status.busy": "2024-11-29T02:07:48.403067Z",
     "iopub.status.idle": "2024-11-29T02:09:18.796537Z",
     "shell.execute_reply": "2024-11-29T02:09:18.795786Z",
     "shell.execute_reply.started": "2024-11-29T02:07:48.403352Z"
    },
    "trusted": true
   },
   "outputs": [
    {
     "name": "stdout",
     "output_type": "stream",
     "text": [
      "Epoch 1/20\n",
      "\u001b[1m66/66\u001b[0m \u001b[32m━━━━━━━━━━━━━━━━━━━━\u001b[0m\u001b[37m\u001b[0m \u001b[1m19s\u001b[0m 136ms/step - Accuracy: 0.1820 - loss: 1.9122 - sensitivity: 0.1472 - specificity: 0.8565 - val_Accuracy: 0.1799 - val_loss: 1.8859 - val_sensitivity: 0.1398 - val_specificity: 0.8564\n",
      "Epoch 2/20\n",
      "\u001b[1m66/66\u001b[0m \u001b[32m━━━━━━━━━━━━━━━━━━━━\u001b[0m\u001b[37m\u001b[0m \u001b[1m4s\u001b[0m 57ms/step - Accuracy: 0.2274 - loss: 1.8199 - sensitivity: 0.1718 - specificity: 0.8646 - val_Accuracy: 0.1894 - val_loss: 1.8618 - val_sensitivity: 0.1415 - val_specificity: 0.8569\n",
      "Epoch 3/20\n",
      "\u001b[1m66/66\u001b[0m \u001b[32m━━━━━━━━━━━━━━━━━━━━\u001b[0m\u001b[37m\u001b[0m \u001b[1m4s\u001b[0m 57ms/step - Accuracy: 0.2307 - loss: 1.7877 - sensitivity: 0.1745 - specificity: 0.8647 - val_Accuracy: 0.1894 - val_loss: 1.8694 - val_sensitivity: 0.1435 - val_specificity: 0.8576\n",
      "Epoch 4/20\n",
      "\u001b[1m66/66\u001b[0m \u001b[32m━━━━━━━━━━━━━━━━━━━━\u001b[0m\u001b[37m\u001b[0m \u001b[1m4s\u001b[0m 58ms/step - Accuracy: 0.2893 - loss: 1.7460 - sensitivity: 0.2051 - specificity: 0.8710 - val_Accuracy: 0.1913 - val_loss: 1.8800 - val_sensitivity: 0.1513 - val_specificity: 0.8573\n",
      "Epoch 5/20\n",
      "\u001b[1m66/66\u001b[0m \u001b[32m━━━━━━━━━━━━━━━━━━━━\u001b[0m\u001b[37m\u001b[0m \u001b[1m4s\u001b[0m 58ms/step - Accuracy: 0.3122 - loss: 1.7205 - sensitivity: 0.2382 - specificity: 0.8779 - val_Accuracy: 0.1837 - val_loss: 1.9071 - val_sensitivity: 0.1353 - val_specificity: 0.8560\n",
      "Epoch 6/20\n",
      "\u001b[1m66/66\u001b[0m \u001b[32m━━━━━━━━━━━━━━━━━━━━\u001b[0m\u001b[37m\u001b[0m \u001b[1m4s\u001b[0m 59ms/step - Accuracy: 0.3152 - loss: 1.6855 - sensitivity: 0.2449 - specificity: 0.8781 - val_Accuracy: 0.1856 - val_loss: 1.8898 - val_sensitivity: 0.1523 - val_specificity: 0.8573\n",
      "Epoch 7/20\n",
      "\u001b[1m66/66\u001b[0m \u001b[32m━━━━━━━━━━━━━━━━━━━━\u001b[0m\u001b[37m\u001b[0m \u001b[1m4s\u001b[0m 59ms/step - Accuracy: 0.3521 - loss: 1.6619 - sensitivity: 0.2814 - specificity: 0.8870 - val_Accuracy: 0.1799 - val_loss: 1.9018 - val_sensitivity: 0.1414 - val_specificity: 0.8551\n",
      "Epoch 8/20\n",
      "\u001b[1m66/66\u001b[0m \u001b[32m━━━━━━━━━━━━━━━━━━━━\u001b[0m\u001b[37m\u001b[0m \u001b[1m4s\u001b[0m 59ms/step - Accuracy: 0.3504 - loss: 1.6282 - sensitivity: 0.2739 - specificity: 0.8853 - val_Accuracy: 0.1648 - val_loss: 1.9562 - val_sensitivity: 0.1238 - val_specificity: 0.8535\n",
      "Epoch 9/20\n",
      "\u001b[1m66/66\u001b[0m \u001b[32m━━━━━━━━━━━━━━━━━━━━\u001b[0m\u001b[37m\u001b[0m \u001b[1m4s\u001b[0m 59ms/step - Accuracy: 0.3721 - loss: 1.5899 - sensitivity: 0.2835 - specificity: 0.8889 - val_Accuracy: 0.1932 - val_loss: 2.0061 - val_sensitivity: 0.1466 - val_specificity: 0.8575\n",
      "Epoch 10/20\n",
      "\u001b[1m66/66\u001b[0m \u001b[32m━━━━━━━━━━━━━━━━━━━━\u001b[0m\u001b[37m\u001b[0m \u001b[1m4s\u001b[0m 58ms/step - Accuracy: 0.4107 - loss: 1.5353 - sensitivity: 0.3295 - specificity: 0.8952 - val_Accuracy: 0.2027 - val_loss: 1.9411 - val_sensitivity: 0.1465 - val_specificity: 0.8583\n",
      "Epoch 11/20\n",
      "\u001b[1m66/66\u001b[0m \u001b[32m━━━━━━━━━━━━━━━━━━━━\u001b[0m\u001b[37m\u001b[0m \u001b[1m4s\u001b[0m 57ms/step - Accuracy: 0.4509 - loss: 1.4777 - sensitivity: 0.3611 - specificity: 0.9025 - val_Accuracy: 0.2083 - val_loss: 1.9764 - val_sensitivity: 0.1576 - val_specificity: 0.8601\n",
      "Epoch 12/20\n",
      "\u001b[1m66/66\u001b[0m \u001b[32m━━━━━━━━━━━━━━━━━━━━\u001b[0m\u001b[37m\u001b[0m \u001b[1m4s\u001b[0m 55ms/step - Accuracy: 0.4391 - loss: 1.4780 - sensitivity: 0.3535 - specificity: 0.9007 - val_Accuracy: 0.2027 - val_loss: 2.0229 - val_sensitivity: 0.1552 - val_specificity: 0.8594\n",
      "Epoch 13/20\n",
      "\u001b[1m66/66\u001b[0m \u001b[32m━━━━━━━━━━━━━━━━━━━━\u001b[0m\u001b[37m\u001b[0m \u001b[1m4s\u001b[0m 54ms/step - Accuracy: 0.4855 - loss: 1.4177 - sensitivity: 0.3851 - specificity: 0.9096 - val_Accuracy: 0.2027 - val_loss: 1.9853 - val_sensitivity: 0.1459 - val_specificity: 0.8597\n",
      "Epoch 14/20\n",
      "\u001b[1m66/66\u001b[0m \u001b[32m━━━━━━━━━━━━━━━━━━━━\u001b[0m\u001b[37m\u001b[0m \u001b[1m4s\u001b[0m 54ms/step - Accuracy: 0.4938 - loss: 1.3583 - sensitivity: 0.4078 - specificity: 0.9105 - val_Accuracy: 0.1837 - val_loss: 2.0125 - val_sensitivity: 0.1350 - val_specificity: 0.8551\n",
      "Epoch 15/20\n",
      "\u001b[1m66/66\u001b[0m \u001b[32m━━━━━━━━━━━━━━━━━━━━\u001b[0m\u001b[37m\u001b[0m \u001b[1m4s\u001b[0m 54ms/step - Accuracy: 0.5173 - loss: 1.3266 - sensitivity: 0.4356 - specificity: 0.9144 - val_Accuracy: 0.1742 - val_loss: 2.1596 - val_sensitivity: 0.1328 - val_specificity: 0.8551\n",
      "Epoch 16/20\n",
      "\u001b[1m66/66\u001b[0m \u001b[32m━━━━━━━━━━━━━━━━━━━━\u001b[0m\u001b[37m\u001b[0m \u001b[1m4s\u001b[0m 54ms/step - Accuracy: 0.5085 - loss: 1.3106 - sensitivity: 0.4388 - specificity: 0.9140 - val_Accuracy: 0.2045 - val_loss: 2.0578 - val_sensitivity: 0.1633 - val_specificity: 0.8615\n",
      "Epoch 17/20\n",
      "\u001b[1m66/66\u001b[0m \u001b[32m━━━━━━━━━━━━━━━━━━━━\u001b[0m\u001b[37m\u001b[0m \u001b[1m4s\u001b[0m 54ms/step - Accuracy: 0.5544 - loss: 1.2574 - sensitivity: 0.4685 - specificity: 0.9211 - val_Accuracy: 0.1932 - val_loss: 2.1083 - val_sensitivity: 0.1449 - val_specificity: 0.8578\n",
      "Epoch 18/20\n",
      "\u001b[1m66/66\u001b[0m \u001b[32m━━━━━━━━━━━━━━━━━━━━\u001b[0m\u001b[37m\u001b[0m \u001b[1m4s\u001b[0m 53ms/step - Accuracy: 0.5448 - loss: 1.2337 - sensitivity: 0.4563 - specificity: 0.9188 - val_Accuracy: 0.1932 - val_loss: 2.0828 - val_sensitivity: 0.1515 - val_specificity: 0.8606\n",
      "Epoch 19/20\n",
      "\u001b[1m66/66\u001b[0m \u001b[32m━━━━━━━━━━━━━━━━━━━━\u001b[0m\u001b[37m\u001b[0m \u001b[1m4s\u001b[0m 54ms/step - Accuracy: 0.5792 - loss: 1.1801 - sensitivity: 0.5058 - specificity: 0.9259 - val_Accuracy: 0.1932 - val_loss: 2.1067 - val_sensitivity: 0.1545 - val_specificity: 0.8602\n",
      "Epoch 20/20\n",
      "\u001b[1m66/66\u001b[0m \u001b[32m━━━━━━━━━━━━━━━━━━━━\u001b[0m\u001b[37m\u001b[0m \u001b[1m4s\u001b[0m 54ms/step - Accuracy: 0.5860 - loss: 1.1545 - sensitivity: 0.5111 - specificity: 0.9274 - val_Accuracy: 0.1837 - val_loss: 2.1741 - val_sensitivity: 0.1338 - val_specificity: 0.8567\n",
      "Restoring model weights from the end of the best epoch: 11.\n"
     ]
    }
   ],
   "source": [
    "es = EarlyStopping(\n",
    "    monitor = \"val_Accuracy\",\n",
    "    patience = 20,\n",
    "    verbose = 1,\n",
    "    restore_best_weights = True,\n",
    ")\n",
    "\n",
    "history_vgg = model_vgg.fit(\n",
    "    x = X_train,\n",
    "    y = labels_train,\n",
    "    validation_data = (X_val,labels_val),\n",
    "    batch_size = 32,\n",
    "    epochs = 20,\n",
    "    callbacks = [es]\n",
    ")"
   ]
  },
  {
   "cell_type": "code",
   "execution_count": 41,
   "metadata": {
    "execution": {
     "iopub.execute_input": "2024-11-29T02:11:18.592236Z",
     "iopub.status.busy": "2024-11-29T02:11:18.591827Z",
     "iopub.status.idle": "2024-11-29T02:11:18.974846Z",
     "shell.execute_reply": "2024-11-29T02:11:18.973956Z",
     "shell.execute_reply.started": "2024-11-29T02:11:18.592204Z"
    },
    "trusted": true
   },
   "outputs": [
    {
     "data": {
      "image/png": "[encoded data removed]",
      "text/plain": [
       "<Figure size 1000x500 with 2 Axes>"
      ]
     },
     "metadata": {},
     "output_type": "display_data"
    }
   ],
   "source": [
    "fig = plt.figure(figsize=(10,5))\n",
    "\n",
    "ax = fig.add_subplot(1,2,1)\n",
    "ax.plot(history_vgg.history['Accuracy'],label='Accuracy')\n",
    "ax.plot(history_vgg.history['sensitivity'],label='Sensitivity')\n",
    "ax.plot(history_vgg.history['specificity'],label='Specificity')\n",
    "ax.set_title('Train')\n",
    "ax.legend()\n",
    "\n",
    "ax = fig.add_subplot(1,2,2)\n",
    "ax.plot(history_vgg.history['val_Accuracy'],label='Accuracy')\n",
    "ax.plot(history_vgg.history['val_sensitivity'],label='Sensitivity')\n",
    "ax.plot(history_vgg.history['val_specificity'],label='Specificity')\n",
    "ax.set_title('Validation')\n",
    "\n",
    "plt.show()"
   ]
  },
  {
   "cell_type": "markdown",
   "metadata": {},
   "source": [
    "En el training, la red pudo aprender a distinguir las clases en mayor medida, pero esto fue solamente con el set de train, puesto que en la validación el nivel de Accuracy descendió. Esto es unclaro síntoma de overfitting que debería ser compensado de alguna manera.\n",
    "\n",
    "Debido a la acrquitectura de mayor extensión de VGG, la red puede aprender en mayor medidas las características intrínsecas de las imágenes. La intención a futuro es poder replicar este bien comportamiento tanto en la etapa de training como en validation."
   ]
  },
  {
   "cell_type": "markdown",
   "metadata": {},
   "source": [
    "# VGG - Entrenamiento con algunos pesos del modelo descongelados"
   ]
  },
  {
   "cell_type": "code",
   "execution_count": 42,
   "metadata": {
    "execution": {
     "iopub.execute_input": "2024-11-29T02:11:48.637512Z",
     "iopub.status.busy": "2024-11-29T02:11:48.637149Z",
     "iopub.status.idle": "2024-11-29T02:13:25.664587Z",
     "shell.execute_reply": "2024-11-29T02:13:25.663814Z",
     "shell.execute_reply.started": "2024-11-29T02:11:48.637477Z"
    },
    "trusted": true
   },
   "outputs": [
    {
     "name": "stdout",
     "output_type": "stream",
     "text": [
      "Epoch 1/20\n",
      "\u001b[1m66/66\u001b[0m \u001b[32m━━━━━━━━━━━━━━━━━━━━\u001b[0m\u001b[37m\u001b[0m \u001b[1m9s\u001b[0m 83ms/step - Accuracy: 0.1993 - loss: 1.8696 - sensitivity: 0.1459 - specificity: 0.8570 - val_Accuracy: 0.1610 - val_loss: 1.8462 - val_sensitivity: 0.1194 - val_specificity: 0.8527\n",
      "Epoch 2/20\n",
      "\u001b[1m66/66\u001b[0m \u001b[32m━━━━━━━━━━━━━━━━━━━━\u001b[0m\u001b[37m\u001b[0m \u001b[1m4s\u001b[0m 65ms/step - Accuracy: 0.1934 - loss: 1.8389 - sensitivity: 0.1472 - specificity: 0.8585 - val_Accuracy: 0.1780 - val_loss: 1.8460 - val_sensitivity: 0.1253 - val_specificity: 0.8542\n",
      "Epoch 3/20\n",
      "\u001b[1m66/66\u001b[0m \u001b[32m━━━━━━━━━━━━━━━━━━━━\u001b[0m\u001b[37m\u001b[0m \u001b[1m4s\u001b[0m 66ms/step - Accuracy: 0.2098 - loss: 1.8107 - sensitivity: 0.1498 - specificity: 0.8588 - val_Accuracy: 0.1894 - val_loss: 1.8529 - val_sensitivity: 0.1444 - val_specificity: 0.8573\n",
      "Epoch 4/20\n",
      "\u001b[1m66/66\u001b[0m \u001b[32m━━━━━━━━━━━━━━━━━━━━\u001b[0m\u001b[37m\u001b[0m \u001b[1m4s\u001b[0m 67ms/step - Accuracy: 0.2195 - loss: 1.8128 - sensitivity: 0.1539 - specificity: 0.8600 - val_Accuracy: 0.1856 - val_loss: 1.8592 - val_sensitivity: 0.1378 - val_specificity: 0.8570\n",
      "Epoch 5/20\n",
      "\u001b[1m66/66\u001b[0m \u001b[32m━━━━━━━━━━━━━━━━━━━━\u001b[0m\u001b[37m\u001b[0m \u001b[1m4s\u001b[0m 68ms/step - Accuracy: 0.2555 - loss: 1.7738 - sensitivity: 0.1805 - specificity: 0.8650 - val_Accuracy: 0.1667 - val_loss: 1.8583 - val_sensitivity: 0.1125 - val_specificity: 0.8517\n",
      "Epoch 6/20\n",
      "\u001b[1m66/66\u001b[0m \u001b[32m━━━━━━━━━━━━━━━━━━━━\u001b[0m\u001b[37m\u001b[0m \u001b[1m5s\u001b[0m 69ms/step - Accuracy: 0.2801 - loss: 1.7629 - sensitivity: 0.2013 - specificity: 0.8719 - val_Accuracy: 0.1799 - val_loss: 1.8902 - val_sensitivity: 0.1434 - val_specificity: 0.8562\n",
      "Epoch 7/20\n",
      "\u001b[1m66/66\u001b[0m \u001b[32m━━━━━━━━━━━━━━━━━━━━\u001b[0m\u001b[37m\u001b[0m \u001b[1m5s\u001b[0m 70ms/step - Accuracy: 0.3141 - loss: 1.7148 - sensitivity: 0.2301 - specificity: 0.8774 - val_Accuracy: 0.1951 - val_loss: 1.9578 - val_sensitivity: 0.1521 - val_specificity: 0.8575\n",
      "Epoch 8/20\n",
      "\u001b[1m66/66\u001b[0m \u001b[32m━━━━━━━━━━━━━━━━━━━━\u001b[0m\u001b[37m\u001b[0m \u001b[1m5s\u001b[0m 71ms/step - Accuracy: 0.3460 - loss: 1.6289 - sensitivity: 0.2565 - specificity: 0.8835 - val_Accuracy: 0.1780 - val_loss: 2.0052 - val_sensitivity: 0.1284 - val_specificity: 0.8539\n",
      "Epoch 9/20\n",
      "\u001b[1m66/66\u001b[0m \u001b[32m━━━━━━━━━━━━━━━━━━━━\u001b[0m\u001b[37m\u001b[0m \u001b[1m5s\u001b[0m 73ms/step - Accuracy: 0.3630 - loss: 1.5679 - sensitivity: 0.2804 - specificity: 0.8866 - val_Accuracy: 0.1686 - val_loss: 1.9661 - val_sensitivity: 0.1202 - val_specificity: 0.8534\n",
      "Epoch 10/20\n",
      "\u001b[1m66/66\u001b[0m \u001b[32m━━━━━━━━━━━━━━━━━━━━\u001b[0m\u001b[37m\u001b[0m \u001b[1m5s\u001b[0m 73ms/step - Accuracy: 0.4201 - loss: 1.4509 - sensitivity: 0.3245 - specificity: 0.8981 - val_Accuracy: 0.1686 - val_loss: 2.2700 - val_sensitivity: 0.1180 - val_specificity: 0.8527\n",
      "Epoch 11/20\n",
      "\u001b[1m66/66\u001b[0m \u001b[32m━━━━━━━━━━━━━━━━━━━━\u001b[0m\u001b[37m\u001b[0m \u001b[1m5s\u001b[0m 72ms/step - Accuracy: 0.5010 - loss: 1.2883 - sensitivity: 0.4055 - specificity: 0.9119 - val_Accuracy: 0.1629 - val_loss: 2.3246 - val_sensitivity: 0.1319 - val_specificity: 0.8531\n",
      "Epoch 12/20\n",
      "\u001b[1m66/66\u001b[0m \u001b[32m━━━━━━━━━━━━━━━━━━━━\u001b[0m\u001b[37m\u001b[0m \u001b[1m5s\u001b[0m 72ms/step - Accuracy: 0.5549 - loss: 1.1935 - sensitivity: 0.4660 - specificity: 0.9220 - val_Accuracy: 0.1818 - val_loss: 2.5026 - val_sensitivity: 0.1311 - val_specificity: 0.8556\n",
      "Epoch 13/20\n",
      "\u001b[1m66/66\u001b[0m \u001b[32m━━━━━━━━━━━━━━━━━━━━\u001b[0m\u001b[37m\u001b[0m \u001b[1m5s\u001b[0m 70ms/step - Accuracy: 0.6193 - loss: 1.0527 - sensitivity: 0.5345 - specificity: 0.9333 - val_Accuracy: 0.1837 - val_loss: 2.7803 - val_sensitivity: 0.1416 - val_specificity: 0.8578\n",
      "Epoch 14/20\n",
      "\u001b[1m66/66\u001b[0m \u001b[32m━━━━━━━━━━━━━━━━━━━━\u001b[0m\u001b[37m\u001b[0m \u001b[1m5s\u001b[0m 69ms/step - Accuracy: 0.6740 - loss: 0.9219 - sensitivity: 0.5486 - specificity: 0.9414 - val_Accuracy: 0.1837 - val_loss: 3.3985 - val_sensitivity: 0.1509 - val_specificity: 0.8578\n",
      "Epoch 15/20\n",
      "\u001b[1m66/66\u001b[0m \u001b[32m━━━━━━━━━━━━━━━━━━━━\u001b[0m\u001b[37m\u001b[0m \u001b[1m5s\u001b[0m 68ms/step - Accuracy: 0.7087 - loss: 0.8378 - sensitivity: 0.6193 - specificity: 0.9486 - val_Accuracy: 0.1761 - val_loss: 2.7700 - val_sensitivity: 0.1301 - val_specificity: 0.8565\n",
      "Epoch 16/20\n",
      "\u001b[1m66/66\u001b[0m \u001b[32m━━━━━━━━━━━━━━━━━━━━\u001b[0m\u001b[37m\u001b[0m \u001b[1m4s\u001b[0m 68ms/step - Accuracy: 0.7203 - loss: 0.7561 - sensitivity: 0.6140 - specificity: 0.9505 - val_Accuracy: 0.1742 - val_loss: 3.4011 - val_sensitivity: 0.1312 - val_specificity: 0.8549\n",
      "Epoch 17/20\n",
      "\u001b[1m66/66\u001b[0m \u001b[32m━━━━━━━━━━━━━━━━━━━━\u001b[0m\u001b[37m\u001b[0m \u001b[1m4s\u001b[0m 67ms/step - Accuracy: 0.7742 - loss: 0.6493 - sensitivity: 0.6962 - specificity: 0.9609 - val_Accuracy: 0.1837 - val_loss: 3.8094 - val_sensitivity: 0.1512 - val_specificity: 0.8579\n",
      "Epoch 18/20\n",
      "\u001b[1m66/66\u001b[0m \u001b[32m━━━━━━━━━━━━━━━━━━━━\u001b[0m\u001b[37m\u001b[0m \u001b[1m4s\u001b[0m 67ms/step - Accuracy: 0.7935 - loss: 0.5607 - sensitivity: 0.7080 - specificity: 0.9637 - val_Accuracy: 0.1761 - val_loss: 3.9741 - val_sensitivity: 0.1371 - val_specificity: 0.8563\n",
      "Epoch 19/20\n",
      "\u001b[1m66/66\u001b[0m \u001b[32m━━━━━━━━━━━━━━━━━━━━\u001b[0m\u001b[37m\u001b[0m \u001b[1m4s\u001b[0m 67ms/step - Accuracy: 0.8403 - loss: 0.4979 - sensitivity: 0.7467 - specificity: 0.9719 - val_Accuracy: 0.1723 - val_loss: 3.9664 - val_sensitivity: 0.1453 - val_specificity: 0.8554\n",
      "Epoch 20/20\n",
      "\u001b[1m66/66\u001b[0m \u001b[32m━━━━━━━━━━━━━━━━━━━━\u001b[0m\u001b[37m\u001b[0m \u001b[1m4s\u001b[0m 67ms/step - Accuracy: 0.8583 - loss: 0.4391 - sensitivity: 0.7721 - specificity: 0.9752 - val_Accuracy: 0.1818 - val_loss: 4.1884 - val_sensitivity: 0.1451 - val_specificity: 0.8561\n",
      "Epoch 20: early stopping\n",
      "Restoring model weights from the end of the best epoch: 1.\n"
     ]
    }
   ],
   "source": [
    "# Desbloquear algunas capas para Fine-Tuning\n",
    "for layer in base_model_vgg.layers[-4:]:  # Desbloquear las últimas 4 capas\n",
    "    layer.trainable = True\n",
    "\n",
    "model_vgg = Sequential([\n",
    "    base_model_vgg,\n",
    "    Flatten(),\n",
    "    Dense(1024, activation='relu'),\n",
    "    Dense(256, activation='relu'),\n",
    "    Dense(7, activation='softmax')\n",
    "])\n",
    "\n",
    "# Compilar el modelo nuevamente (necesario al cambiar capas entrenables)\n",
    "model_vgg.compile(\n",
    "    optimizer=tf.keras.optimizers.Adam(1e-4),\n",
    "    loss='categorical_crossentropy',\n",
    "    metrics=['Accuracy',sensitivity,specificity])\n",
    "\n",
    "history_vgg_finetune = model_vgg.fit(\n",
    "    x = X_train,\n",
    "    y = labels_train,\n",
    "    validation_data = (X_val,labels_val),\n",
    "    batch_size = 32,\n",
    "    epochs = 20,\n",
    "    callbacks = [es],\n",
    ")"
   ]
  },
  {
   "cell_type": "code",
   "execution_count": 43,
   "metadata": {
    "execution": {
     "iopub.execute_input": "2024-11-29T02:13:30.774404Z",
     "iopub.status.busy": "2024-11-29T02:13:30.773400Z",
     "iopub.status.idle": "2024-11-29T02:13:31.084690Z",
     "shell.execute_reply": "2024-11-29T02:13:31.083817Z",
     "shell.execute_reply.started": "2024-11-29T02:13:30.774357Z"
    },
    "trusted": true
   },
   "outputs": [
    {
     "data": {
      "image/png": "[encoded data removed]",
      "text/plain": [
       "<Figure size 1000x500 with 2 Axes>"
      ]
     },
     "metadata": {},
     "output_type": "display_data"
    }
   ],
   "source": [
    "fig = plt.figure(figsize=(10,5))\n",
    "\n",
    "ax = fig.add_subplot(1,2,1)\n",
    "ax.plot(history_vgg_finetune.history['Accuracy'],label='Accuracy')\n",
    "ax.plot(history_vgg_finetune.history['sensitivity'],label='Sensitivity')\n",
    "ax.plot(history_vgg_finetune.history['specificity'],label='Specificity')\n",
    "ax.set_title('Train')\n",
    "ax.legend()\n",
    "\n",
    "ax = fig.add_subplot(1,2,2)\n",
    "ax.plot(history_vgg_finetune.history['val_Accuracy'],label='Accuracy')\n",
    "ax.plot(history_vgg_finetune.history['val_sensitivity'],label='Sensitivity')\n",
    "ax.plot(history_vgg_finetune.history['val_specificity'],label='Specificity')\n",
    "ax.set_title('Validation')\n",
    "\n",
    "plt.show()"
   ]
  },
  {
   "cell_type": "markdown",
   "metadata": {},
   "source": [
    "Comparado con la red anterior, al desbloquear las últimas capas del modelo VGG, la red pudo aprender aún más las características de las imágenes en el training. Sigue existiendo un overfitting que debe ser compensado, pero es una buena noticia que la red sea capas de aprender con un accuracy de 80% en pocos epochs y tiempo de entrenamiento. "
   ]
  },
  {
   "cell_type": "markdown",
   "metadata": {},
   "source": [
    "## Conclusiones del análsis de resultados del entreanimento de redes utilizado VGG\n",
    "\n",
    "En comparación con las redes CNN entrenadas anteriormente, la performance de las redes VGG es superior. Aún así, es importante destacar el claro overfitting de las mismas, por lo que este es un punto a considerar a la hora de utilizas los modelos con VGG."
   ]
  },
  {
   "cell_type": "markdown",
   "metadata": {},
   "source": [
    "# Conclusiones del análisis de resultados de todas las redes entrenadas\n",
    "\n",
    "Todas las redes han podido ser entrenadas en términos de pocos minutos. Si bien las redes con el modelo VGG resultaron más precisos en la clasificación múltiple, ninguna red pudo superar el 20% de la precisión en el set de validación, un síntoma de overfitting o falta de datos.\n",
    "\n",
    "Consideramos que la disminución de datos no es la mejor de las técnicas para balancear las clases, pero logra mostrar resultados que no son posibles de observar con el dataset completo y sesgado a la clase 5.\n",
    "\n",
    "Por último, las redes son mejores en especificad que en sensibilidad."
   ]
  }
 ],
 "metadata": {
  "kaggle": {
   "accelerator": "nvidiaTeslaT4",
   "dataSources": [
    {
     "datasetId": 6163389,
     "sourceId": 10033453,
     "sourceType": "datasetVersion"
    }
   ],
   "dockerImageVersionId": 30786,
   "isGpuEnabled": true,
   "isInternetEnabled": true,
   "language": "python",
   "sourceType": "notebook"
  },
  "kernelspec": {
   "display_name": "Python 3",
   "language": "python",
   "name": "python3"
  },
  "language_info": {
   "codemirror_mode": {
    "name": "ipython",
    "version": 3
   },
   "file_extension": ".py",
   "mimetype": "text/x-python",
   "name": "python",
   "nbconvert_exporter": "python",
   "pygments_lexer": "ipython3",
   "version": "3.10.14"
  }
 },
 "nbformat": 4,
 "nbformat_minor": 4
}
