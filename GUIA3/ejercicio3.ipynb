{
 "cells": [
  {
   "metadata": {},
   "cell_type": "markdown",
   "source": [
    "# Ejercicio 3\n",
    "3- Realice una registración basada en características de la imágenes contenidas en “PAIByB-5”\n",
    "utilizando detectores de Harris como puntos a emparejar, evaluando los resultados con las métricas\n",
    "de la GUIA I ¿Qué conclusiones puede sacar al respecto? Comparar los resultados con los ejercicios\n",
    "anteriores."
   ],
   "id": "5179a28ddfe3fadb"
  },
  {
   "cell_type": "code",
   "id": "initial_id",
   "metadata": {
    "collapsed": true,
    "ExecuteTime": {
     "end_time": "2024-10-24T16:26:18.003055Z",
     "start_time": "2024-10-24T16:26:15.851924Z"
    }
   },
   "source": [
    "import cv2\n",
    "import numpy as np\n",
    "import matplotlib.pyplot as plt\n",
    "from skimage import io, transform, img_as_float\n",
    "from scipy import fftpack\n",
    "from scipy.optimize import minimize\n",
    "from scipy.optimize import differential_evolution\n",
    "from skimage.metrics import normalized_mutual_information as nmi\n",
    "from skimage.metrics import structural_similarity as ssim, mean_squared_error as mse"
   ],
   "outputs": [],
   "execution_count": 1
  }
 ],
 "metadata": {
  "kernelspec": {
   "display_name": "Python 3",
   "language": "python",
   "name": "python3"
  },
  "language_info": {
   "codemirror_mode": {
    "name": "ipython",
    "version": 2
   },
   "file_extension": ".py",
   "mimetype": "text/x-python",
   "name": "python",
   "nbconvert_exporter": "python",
   "pygments_lexer": "ipython2",
   "version": "2.7.6"
  }
 },
 "nbformat": 4,
 "nbformat_minor": 5
}
