{
 "cells": [
  {
   "metadata": {},
   "cell_type": "markdown",
   "source": [
    "# Ejercicio 3\n",
    "3- Realice una registración basada en características de la imágenes contenidas en “PAIByB-5”\n",
    "utilizando detectores de Harris como puntos a emparejar, evaluando los resultados con las métricas\n",
    "de la GUIA I ¿Qué conclusiones puede sacar al respecto? Comparar los resultados con los ejercicios\n",
    "anteriores."
   ],
   "id": "5179a28ddfe3fadb"
  },
  {
   "metadata": {
    "ExecuteTime": {
     "end_time": "2024-10-28T00:56:51.046538Z",
     "start_time": "2024-10-28T00:56:50.965781Z"
    }
   },
   "cell_type": "code",
   "source": [
    "%load_ext autoreload\n",
    "%autoreload 2"
   ],
   "id": "1ba5d4affc33d630",
   "outputs": [],
   "execution_count": 3
  },
  {
   "cell_type": "code",
   "id": "initial_id",
   "metadata": {
    "collapsed": true,
    "ExecuteTime": {
     "end_time": "2024-10-28T00:58:12.735842Z",
     "start_time": "2024-10-28T00:58:12.645366Z"
    }
   },
   "source": [
    "import cv2\n",
    "import numpy as np\n",
    "import matplotlib.pyplot as plt\n",
    "from skimage import io, transform, img_as_float\n",
    "from scipy import fftpack\n",
    "from scipy.optimize import minimize\n",
    "from scipy.optimize import differential_evolution\n",
    "from skimage.metrics import normalized_mutual_information as nmi\n",
    "from skimage.metrics import structural_similarity as ssim, mean_squared_error as mse\n",
    "from ejercicio1 import Imagen, Registracion, lista_de_paths, agrupar_paths\n",
    "from reg_toolkit import peak_SNR"
   ],
   "outputs": [],
   "execution_count": 4
  },
  {
   "metadata": {
    "ExecuteTime": {
     "end_time": "2024-10-28T00:58:28.287440Z",
     "start_time": "2024-10-28T00:58:26.845360Z"
    }
   },
   "cell_type": "code",
   "source": [
    "base_dir = 'PAIByB-5'\n",
    "#extrigo paths \n",
    "lista_paths = lista_de_paths(base_dir)\n",
    "# Agrupar los paths\n",
    "un_digito, dos_digitos = agrupar_paths(lista_paths)\n",
    "#aplico la clase Imagen, esta me lee la imagen y calcula los puntos calve \n",
    "un_digito_imgs = [Imagen(image) for image in un_digito ]\n",
    "dos_digito_imgs = [Imagen(image) for image in dos_digitos ]"
   ],
   "id": "c3b5cd3b939f5fc1",
   "outputs": [],
   "execution_count": 5
  }
 ],
 "metadata": {
  "kernelspec": {
   "display_name": "Python 3",
   "language": "python",
   "name": "python3"
  },
  "language_info": {
   "codemirror_mode": {
    "name": "ipython",
    "version": 2
   },
   "file_extension": ".py",
   "mimetype": "text/x-python",
   "name": "python",
   "nbconvert_exporter": "python",
   "pygments_lexer": "ipython2",
   "version": "2.7.6"
  }
 },
 "nbformat": 4,
 "nbformat_minor": 5
}
