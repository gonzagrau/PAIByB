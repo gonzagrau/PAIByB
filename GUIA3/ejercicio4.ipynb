{
 "cells": [
  {
   "metadata": {},
   "cell_type": "markdown",
   "source": [
    "# Ejercicio 4\n",
    "4- Realice una registración basada en características, otra con CCN y otra con MI de la imágenes\n",
    "contenidas en “PAIByB-7”, evaluando los resultados con las métricas de la GUIA I ¿Qué\n",
    "conclusiones puede sacar al respecto? Comparar los resultados entre sí."
   ],
   "id": "1c020909a7f1f507"
  },
  {
   "cell_type": "code",
   "execution_count": null,
   "id": "initial_id",
   "metadata": {
    "collapsed": true
   },
   "outputs": [],
   "source": [
    "import numpy as np\n",
    "import cv2\n",
    "import matplotlib.pyplot as plt\n",
    "from skimage import io, transform, img_as_float\n",
    "from scipy import fftpack\n",
    "from scipy.optimize import minimize\n",
    "from scipy.optimize import differential_evolution\n",
    "from skimage.metrics import normalized_mutual_information as nmi\n",
    "from skimage.metrics import structural_similarity as ssim, mean_squared_error as mse"
   ]
  }
 ],
 "metadata": {
  "kernelspec": {
   "display_name": "Python 3",
   "language": "python",
   "name": "python3"
  },
  "language_info": {
   "codemirror_mode": {
    "name": "ipython",
    "version": 2
   },
   "file_extension": ".py",
   "mimetype": "text/x-python",
   "name": "python",
   "nbconvert_exporter": "python",
   "pygments_lexer": "ipython2",
   "version": "2.7.6"
  }
 },
 "nbformat": 4,
 "nbformat_minor": 5
}
